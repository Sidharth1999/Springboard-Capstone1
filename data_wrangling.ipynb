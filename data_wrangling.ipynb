{
 "metadata": {
  "language_info": {
   "codemirror_mode": {
    "name": "ipython",
    "version": 3
   },
   "file_extension": ".py",
   "mimetype": "text/x-python",
   "name": "python",
   "nbconvert_exporter": "python",
   "pygments_lexer": "ipython3",
   "version": "3.7.1"
  },
  "orig_nbformat": 2,
  "kernelspec": {
   "name": "python371jvsc74a57bd0597be375a0af02eb3c3d3d6fe8c370a08fb7e001d2d85e430e9722657aedcaff",
   "display_name": "Python 3.7.1 64-bit ('base': conda)"
  }
 },
 "nbformat": 4,
 "nbformat_minor": 2,
 "cells": [
  {
   "cell_type": "code",
   "execution_count": 1,
   "metadata": {},
   "outputs": [],
   "source": [
    "#Imports\n",
    "import pandas as pd\n",
    "import numpy as np\n",
    "import matplotlib.pyplot as plt\n",
    "import seaborn as sns"
   ]
  },
  {
   "cell_type": "code",
   "execution_count": 2,
   "metadata": {},
   "outputs": [
    {
     "output_type": "stream",
     "name": "stderr",
     "text": [
      "/Users/sidharthramanan/anaconda3/lib/python3.7/site-packages/IPython/core/interactiveshell.py:3147: DtypeWarning: Columns (7,9,1427,1542,1561,1575) have mixed types.Specify dtype option on import or set low_memory=False.\n  interactivity=interactivity, compiler=compiler, result=result)\n"
     ]
    }
   ],
   "source": [
    "college_df = pd.read_csv('./data/CollegeScorecard.csv')"
   ]
  },
  {
   "cell_type": "code",
   "execution_count": 3,
   "metadata": {},
   "outputs": [
    {
     "output_type": "execute_result",
     "data": {
      "text/plain": [
       "Index(['UNITID', 'OPEID', 'opeid6', 'INSTNM', 'CITY', 'STABBR', 'ZIP',\n",
       "       'AccredAgency', 'INSTURL', 'NPCURL',\n",
       "       ...\n",
       "       'COMPL_RPY_3YR_RT_SUPP', 'NONCOM_RPY_3YR_RT_SUPP',\n",
       "       'DEP_RPY_3YR_RT_SUPP', 'IND_RPY_3YR_RT_SUPP', 'PELL_RPY_3YR_RT_SUPP',\n",
       "       'NOPELL_RPY_3YR_RT_SUPP', 'FEMALE_RPY_3YR_RT_SUPP',\n",
       "       'MALE_RPY_3YR_RT_SUPP', 'FIRSTGEN_RPY_3YR_RT_SUPP',\n",
       "       'NOTFIRSTGEN_RPY_3YR_RT_SUPP'],\n",
       "      dtype='object', length=1725)"
      ]
     },
     "metadata": {},
     "execution_count": 3
    }
   ],
   "source": [
    "college_df.columns"
   ]
  },
  {
   "cell_type": "code",
   "execution_count": 4,
   "metadata": {},
   "outputs": [
    {
     "output_type": "stream",
     "name": "stdout",
     "text": [
      "<class 'pandas.core.frame.DataFrame'>\nRangeIndex: 7804 entries, 0 to 7803\nColumns: 1725 entries, UNITID to NOTFIRSTGEN_RPY_3YR_RT_SUPP\ndtypes: float64(1539), int64(12), object(174)\nmemory usage: 102.7+ MB\n"
     ]
    }
   ],
   "source": [
    "college_df.info()"
   ]
  },
  {
   "cell_type": "code",
   "execution_count": 5,
   "metadata": {},
   "outputs": [
    {
     "output_type": "execute_result",
     "data": {
      "text/plain": [
       "             UNITID         OPEID        opeid6  sch_deg         HCM2  \\\n",
       "count  7.804000e+03  7.804000e+03   7804.000000      0.0  7804.000000   \n",
       "mean   1.705430e+06  2.032428e+06  16121.271271      NaN     0.008842   \n",
       "std    6.789848e+06  4.281088e+06  13663.764753      NaN     0.093619   \n",
       "min    1.006540e+05  1.002000e+05   1002.000000      NaN     0.000000   \n",
       "25%    1.743918e+05  3.455750e+05   3439.750000      NaN     0.000000   \n",
       "50%    2.306000e+05  1.063100e+06  10490.000000      NaN     0.000000   \n",
       "75%    4.462262e+05  2.616779e+06  25785.000000      NaN     0.000000   \n",
       "max    4.828571e+07  8.209882e+07  42264.000000      NaN     1.000000   \n",
       "\n",
       "              main    NUMBRANCH      PREDDEG     HIGHDEG      CONTROL  ...  \\\n",
       "count  7804.000000  7804.000000  7804.000000  7804.00000  7804.000000  ...   \n",
       "mean      0.731548     8.334956     1.788954     2.17632     2.216427  ...   \n",
       "std       0.443182    24.068238     1.034792     1.31764     0.837223  ...   \n",
       "min       0.000000     1.000000     0.000000     0.00000     1.000000  ...   \n",
       "25%       0.000000     1.000000     1.000000     1.00000     1.000000  ...   \n",
       "50%       1.000000     1.000000     2.000000     2.00000     2.000000  ...   \n",
       "75%       1.000000     3.000000     3.000000     4.00000     3.000000  ...   \n",
       "max       1.000000   141.000000     4.000000     4.00000     3.000000  ...   \n",
       "\n",
       "       pct25_earn_wne_p8  pct75_earn_wne_p8  pct90_earn_wne_p8  \\\n",
       "count                0.0                0.0                0.0   \n",
       "mean                 NaN                NaN                NaN   \n",
       "std                  NaN                NaN                NaN   \n",
       "min                  NaN                NaN                NaN   \n",
       "25%                  NaN                NaN                NaN   \n",
       "50%                  NaN                NaN                NaN   \n",
       "75%                  NaN                NaN                NaN   \n",
       "max                  NaN                NaN                NaN   \n",
       "\n",
       "       sd_earn_wne_p8  gt_25k_p8  count_nwne_p9  count_wne_p9  mn_earn_wne_p9  \\\n",
       "count             0.0        0.0            0.0           0.0             0.0   \n",
       "mean              NaN        NaN            NaN           NaN             NaN   \n",
       "std               NaN        NaN            NaN           NaN             NaN   \n",
       "min               NaN        NaN            NaN           NaN             NaN   \n",
       "25%               NaN        NaN            NaN           NaN             NaN   \n",
       "50%               NaN        NaN            NaN           NaN             NaN   \n",
       "75%               NaN        NaN            NaN           NaN             NaN   \n",
       "max               NaN        NaN            NaN           NaN             NaN   \n",
       "\n",
       "       sd_earn_wne_p9  gt_25k_p9  \n",
       "count             0.0        0.0  \n",
       "mean              NaN        NaN  \n",
       "std               NaN        NaN  \n",
       "min               NaN        NaN  \n",
       "25%               NaN        NaN  \n",
       "50%               NaN        NaN  \n",
       "75%               NaN        NaN  \n",
       "max               NaN        NaN  \n",
       "\n",
       "[8 rows x 1551 columns]"
      ],
      "text/html": "<div>\n<style scoped>\n    .dataframe tbody tr th:only-of-type {\n        vertical-align: middle;\n    }\n\n    .dataframe tbody tr th {\n        vertical-align: top;\n    }\n\n    .dataframe thead th {\n        text-align: right;\n    }\n</style>\n<table border=\"1\" class=\"dataframe\">\n  <thead>\n    <tr style=\"text-align: right;\">\n      <th></th>\n      <th>UNITID</th>\n      <th>OPEID</th>\n      <th>opeid6</th>\n      <th>sch_deg</th>\n      <th>HCM2</th>\n      <th>main</th>\n      <th>NUMBRANCH</th>\n      <th>PREDDEG</th>\n      <th>HIGHDEG</th>\n      <th>CONTROL</th>\n      <th>...</th>\n      <th>pct25_earn_wne_p8</th>\n      <th>pct75_earn_wne_p8</th>\n      <th>pct90_earn_wne_p8</th>\n      <th>sd_earn_wne_p8</th>\n      <th>gt_25k_p8</th>\n      <th>count_nwne_p9</th>\n      <th>count_wne_p9</th>\n      <th>mn_earn_wne_p9</th>\n      <th>sd_earn_wne_p9</th>\n      <th>gt_25k_p9</th>\n    </tr>\n  </thead>\n  <tbody>\n    <tr>\n      <th>count</th>\n      <td>7.804000e+03</td>\n      <td>7.804000e+03</td>\n      <td>7804.000000</td>\n      <td>0.0</td>\n      <td>7804.000000</td>\n      <td>7804.000000</td>\n      <td>7804.000000</td>\n      <td>7804.000000</td>\n      <td>7804.00000</td>\n      <td>7804.000000</td>\n      <td>...</td>\n      <td>0.0</td>\n      <td>0.0</td>\n      <td>0.0</td>\n      <td>0.0</td>\n      <td>0.0</td>\n      <td>0.0</td>\n      <td>0.0</td>\n      <td>0.0</td>\n      <td>0.0</td>\n      <td>0.0</td>\n    </tr>\n    <tr>\n      <th>mean</th>\n      <td>1.705430e+06</td>\n      <td>2.032428e+06</td>\n      <td>16121.271271</td>\n      <td>NaN</td>\n      <td>0.008842</td>\n      <td>0.731548</td>\n      <td>8.334956</td>\n      <td>1.788954</td>\n      <td>2.17632</td>\n      <td>2.216427</td>\n      <td>...</td>\n      <td>NaN</td>\n      <td>NaN</td>\n      <td>NaN</td>\n      <td>NaN</td>\n      <td>NaN</td>\n      <td>NaN</td>\n      <td>NaN</td>\n      <td>NaN</td>\n      <td>NaN</td>\n      <td>NaN</td>\n    </tr>\n    <tr>\n      <th>std</th>\n      <td>6.789848e+06</td>\n      <td>4.281088e+06</td>\n      <td>13663.764753</td>\n      <td>NaN</td>\n      <td>0.093619</td>\n      <td>0.443182</td>\n      <td>24.068238</td>\n      <td>1.034792</td>\n      <td>1.31764</td>\n      <td>0.837223</td>\n      <td>...</td>\n      <td>NaN</td>\n      <td>NaN</td>\n      <td>NaN</td>\n      <td>NaN</td>\n      <td>NaN</td>\n      <td>NaN</td>\n      <td>NaN</td>\n      <td>NaN</td>\n      <td>NaN</td>\n      <td>NaN</td>\n    </tr>\n    <tr>\n      <th>min</th>\n      <td>1.006540e+05</td>\n      <td>1.002000e+05</td>\n      <td>1002.000000</td>\n      <td>NaN</td>\n      <td>0.000000</td>\n      <td>0.000000</td>\n      <td>1.000000</td>\n      <td>0.000000</td>\n      <td>0.00000</td>\n      <td>1.000000</td>\n      <td>...</td>\n      <td>NaN</td>\n      <td>NaN</td>\n      <td>NaN</td>\n      <td>NaN</td>\n      <td>NaN</td>\n      <td>NaN</td>\n      <td>NaN</td>\n      <td>NaN</td>\n      <td>NaN</td>\n      <td>NaN</td>\n    </tr>\n    <tr>\n      <th>25%</th>\n      <td>1.743918e+05</td>\n      <td>3.455750e+05</td>\n      <td>3439.750000</td>\n      <td>NaN</td>\n      <td>0.000000</td>\n      <td>0.000000</td>\n      <td>1.000000</td>\n      <td>1.000000</td>\n      <td>1.00000</td>\n      <td>1.000000</td>\n      <td>...</td>\n      <td>NaN</td>\n      <td>NaN</td>\n      <td>NaN</td>\n      <td>NaN</td>\n      <td>NaN</td>\n      <td>NaN</td>\n      <td>NaN</td>\n      <td>NaN</td>\n      <td>NaN</td>\n      <td>NaN</td>\n    </tr>\n    <tr>\n      <th>50%</th>\n      <td>2.306000e+05</td>\n      <td>1.063100e+06</td>\n      <td>10490.000000</td>\n      <td>NaN</td>\n      <td>0.000000</td>\n      <td>1.000000</td>\n      <td>1.000000</td>\n      <td>2.000000</td>\n      <td>2.00000</td>\n      <td>2.000000</td>\n      <td>...</td>\n      <td>NaN</td>\n      <td>NaN</td>\n      <td>NaN</td>\n      <td>NaN</td>\n      <td>NaN</td>\n      <td>NaN</td>\n      <td>NaN</td>\n      <td>NaN</td>\n      <td>NaN</td>\n      <td>NaN</td>\n    </tr>\n    <tr>\n      <th>75%</th>\n      <td>4.462262e+05</td>\n      <td>2.616779e+06</td>\n      <td>25785.000000</td>\n      <td>NaN</td>\n      <td>0.000000</td>\n      <td>1.000000</td>\n      <td>3.000000</td>\n      <td>3.000000</td>\n      <td>4.00000</td>\n      <td>3.000000</td>\n      <td>...</td>\n      <td>NaN</td>\n      <td>NaN</td>\n      <td>NaN</td>\n      <td>NaN</td>\n      <td>NaN</td>\n      <td>NaN</td>\n      <td>NaN</td>\n      <td>NaN</td>\n      <td>NaN</td>\n      <td>NaN</td>\n    </tr>\n    <tr>\n      <th>max</th>\n      <td>4.828571e+07</td>\n      <td>8.209882e+07</td>\n      <td>42264.000000</td>\n      <td>NaN</td>\n      <td>1.000000</td>\n      <td>1.000000</td>\n      <td>141.000000</td>\n      <td>4.000000</td>\n      <td>4.00000</td>\n      <td>3.000000</td>\n      <td>...</td>\n      <td>NaN</td>\n      <td>NaN</td>\n      <td>NaN</td>\n      <td>NaN</td>\n      <td>NaN</td>\n      <td>NaN</td>\n      <td>NaN</td>\n      <td>NaN</td>\n      <td>NaN</td>\n      <td>NaN</td>\n    </tr>\n  </tbody>\n</table>\n<p>8 rows × 1551 columns</p>\n</div>"
     },
     "metadata": {},
     "execution_count": 5
    }
   ],
   "source": [
    "college_df.describe()"
   ]
  },
  {
   "cell_type": "code",
   "execution_count": 6,
   "metadata": {},
   "outputs": [
    {
     "output_type": "execute_result",
     "data": {
      "text/plain": [
       "   UNITID    OPEID  opeid6                               INSTNM        CITY  \\\n",
       "0  100654   100200    1002             Alabama A & M University      Normal   \n",
       "1  100663   105200    1052  University of Alabama at Birmingham  Birmingham   \n",
       "2  100690  2503400   25034                   Amridge University  Montgomery   \n",
       "3  100706   105500    1055  University of Alabama in Huntsville  Huntsville   \n",
       "4  100724   100500    1005             Alabama State University  Montgomery   \n",
       "\n",
       "  STABBR         ZIP                                       AccredAgency  \\\n",
       "0     AL       35762  Southern Association of Colleges and Schools C...   \n",
       "1     AL  35294-0110  Southern Association of Colleges and Schools C...   \n",
       "2     AL  36117-3553  Southern Association of Colleges and Schools C...   \n",
       "3     AL       35899  Southern Association of Colleges and Schools C...   \n",
       "4     AL  36104-0271  Southern Association of Colleges and Schools C...   \n",
       "\n",
       "                          INSTURL  \\\n",
       "0                   www.aamu.edu/   \n",
       "1                     www.uab.edu   \n",
       "2       www.amridgeuniversity.edu   \n",
       "3                     www.uah.edu   \n",
       "4  www.alasu.edu/email/index.aspx   \n",
       "\n",
       "                                              NPCURL  ...  \\\n",
       "0     galileo.aamu.edu/netpricecalculator/npcalc.htm  ...   \n",
       "1    www.collegeportraits.org/AL/UAB/estimator/agree  ...   \n",
       "2  tcc.noellevitz.com/(S(miwoihs5stz5cpyifh4nczu0...  ...   \n",
       "3                                    finaid.uah.edu/  ...   \n",
       "4  www.alasu.edu/cost-aid/forms/calculator/index....  ...   \n",
       "\n",
       "   COMPL_RPY_3YR_RT_SUPP  NONCOM_RPY_3YR_RT_SUPP  DEP_RPY_3YR_RT_SUPP  \\\n",
       "0            0.578873239             0.373790022          0.442857143   \n",
       "1            0.847800926             0.678748759          0.767798013   \n",
       "2            0.807692308              0.61328125    PrivacySuppressed   \n",
       "3            0.892045455             0.689788054          0.800347222   \n",
       "4            0.482490272             0.315996848           0.32410212   \n",
       "\n",
       "   IND_RPY_3YR_RT_SUPP  PELL_RPY_3YR_RT_SUPP  NOPELL_RPY_3YR_RT_SUPP  \\\n",
       "0           0.45890411           0.443586698             0.452513966   \n",
       "1          0.739164697           0.732297853             0.795454545   \n",
       "2          0.641114983           0.600877193                   0.775   \n",
       "3           0.75564409           0.738341969             0.851405622   \n",
       "4          0.350993377           0.320016821             0.380829016   \n",
       "\n",
       "   FEMALE_RPY_3YR_RT_SUPP  MALE_RPY_3YR_RT_SUPP  FIRSTGEN_RPY_3YR_RT_SUPP  \\\n",
       "0             0.484818805                 0.406               0.423580786   \n",
       "1             0.760521886           0.755344418               0.751552795   \n",
       "2             0.610465116           0.686567164               0.632653061   \n",
       "3             0.768378651            0.79844098               0.778156997   \n",
       "4             0.364423718           0.286530612               0.315737052   \n",
       "\n",
       "   NOTFIRSTGEN_RPY_3YR_RT_SUPP  \n",
       "0                   0.44245283  \n",
       "1                  0.765074771  \n",
       "2                         0.65  \n",
       "3                  0.791666667  \n",
       "4                  0.334633385  \n",
       "\n",
       "[5 rows x 1725 columns]"
      ],
      "text/html": "<div>\n<style scoped>\n    .dataframe tbody tr th:only-of-type {\n        vertical-align: middle;\n    }\n\n    .dataframe tbody tr th {\n        vertical-align: top;\n    }\n\n    .dataframe thead th {\n        text-align: right;\n    }\n</style>\n<table border=\"1\" class=\"dataframe\">\n  <thead>\n    <tr style=\"text-align: right;\">\n      <th></th>\n      <th>UNITID</th>\n      <th>OPEID</th>\n      <th>opeid6</th>\n      <th>INSTNM</th>\n      <th>CITY</th>\n      <th>STABBR</th>\n      <th>ZIP</th>\n      <th>AccredAgency</th>\n      <th>INSTURL</th>\n      <th>NPCURL</th>\n      <th>...</th>\n      <th>COMPL_RPY_3YR_RT_SUPP</th>\n      <th>NONCOM_RPY_3YR_RT_SUPP</th>\n      <th>DEP_RPY_3YR_RT_SUPP</th>\n      <th>IND_RPY_3YR_RT_SUPP</th>\n      <th>PELL_RPY_3YR_RT_SUPP</th>\n      <th>NOPELL_RPY_3YR_RT_SUPP</th>\n      <th>FEMALE_RPY_3YR_RT_SUPP</th>\n      <th>MALE_RPY_3YR_RT_SUPP</th>\n      <th>FIRSTGEN_RPY_3YR_RT_SUPP</th>\n      <th>NOTFIRSTGEN_RPY_3YR_RT_SUPP</th>\n    </tr>\n  </thead>\n  <tbody>\n    <tr>\n      <th>0</th>\n      <td>100654</td>\n      <td>100200</td>\n      <td>1002</td>\n      <td>Alabama A &amp; M University</td>\n      <td>Normal</td>\n      <td>AL</td>\n      <td>35762</td>\n      <td>Southern Association of Colleges and Schools C...</td>\n      <td>www.aamu.edu/</td>\n      <td>galileo.aamu.edu/netpricecalculator/npcalc.htm</td>\n      <td>...</td>\n      <td>0.578873239</td>\n      <td>0.373790022</td>\n      <td>0.442857143</td>\n      <td>0.45890411</td>\n      <td>0.443586698</td>\n      <td>0.452513966</td>\n      <td>0.484818805</td>\n      <td>0.406</td>\n      <td>0.423580786</td>\n      <td>0.44245283</td>\n    </tr>\n    <tr>\n      <th>1</th>\n      <td>100663</td>\n      <td>105200</td>\n      <td>1052</td>\n      <td>University of Alabama at Birmingham</td>\n      <td>Birmingham</td>\n      <td>AL</td>\n      <td>35294-0110</td>\n      <td>Southern Association of Colleges and Schools C...</td>\n      <td>www.uab.edu</td>\n      <td>www.collegeportraits.org/AL/UAB/estimator/agree</td>\n      <td>...</td>\n      <td>0.847800926</td>\n      <td>0.678748759</td>\n      <td>0.767798013</td>\n      <td>0.739164697</td>\n      <td>0.732297853</td>\n      <td>0.795454545</td>\n      <td>0.760521886</td>\n      <td>0.755344418</td>\n      <td>0.751552795</td>\n      <td>0.765074771</td>\n    </tr>\n    <tr>\n      <th>2</th>\n      <td>100690</td>\n      <td>2503400</td>\n      <td>25034</td>\n      <td>Amridge University</td>\n      <td>Montgomery</td>\n      <td>AL</td>\n      <td>36117-3553</td>\n      <td>Southern Association of Colleges and Schools C...</td>\n      <td>www.amridgeuniversity.edu</td>\n      <td>tcc.noellevitz.com/(S(miwoihs5stz5cpyifh4nczu0...</td>\n      <td>...</td>\n      <td>0.807692308</td>\n      <td>0.61328125</td>\n      <td>PrivacySuppressed</td>\n      <td>0.641114983</td>\n      <td>0.600877193</td>\n      <td>0.775</td>\n      <td>0.610465116</td>\n      <td>0.686567164</td>\n      <td>0.632653061</td>\n      <td>0.65</td>\n    </tr>\n    <tr>\n      <th>3</th>\n      <td>100706</td>\n      <td>105500</td>\n      <td>1055</td>\n      <td>University of Alabama in Huntsville</td>\n      <td>Huntsville</td>\n      <td>AL</td>\n      <td>35899</td>\n      <td>Southern Association of Colleges and Schools C...</td>\n      <td>www.uah.edu</td>\n      <td>finaid.uah.edu/</td>\n      <td>...</td>\n      <td>0.892045455</td>\n      <td>0.689788054</td>\n      <td>0.800347222</td>\n      <td>0.75564409</td>\n      <td>0.738341969</td>\n      <td>0.851405622</td>\n      <td>0.768378651</td>\n      <td>0.79844098</td>\n      <td>0.778156997</td>\n      <td>0.791666667</td>\n    </tr>\n    <tr>\n      <th>4</th>\n      <td>100724</td>\n      <td>100500</td>\n      <td>1005</td>\n      <td>Alabama State University</td>\n      <td>Montgomery</td>\n      <td>AL</td>\n      <td>36104-0271</td>\n      <td>Southern Association of Colleges and Schools C...</td>\n      <td>www.alasu.edu/email/index.aspx</td>\n      <td>www.alasu.edu/cost-aid/forms/calculator/index....</td>\n      <td>...</td>\n      <td>0.482490272</td>\n      <td>0.315996848</td>\n      <td>0.32410212</td>\n      <td>0.350993377</td>\n      <td>0.320016821</td>\n      <td>0.380829016</td>\n      <td>0.364423718</td>\n      <td>0.286530612</td>\n      <td>0.315737052</td>\n      <td>0.334633385</td>\n    </tr>\n  </tbody>\n</table>\n<p>5 rows × 1725 columns</p>\n</div>"
     },
     "metadata": {},
     "execution_count": 6
    }
   ],
   "source": [
    "college_df.head()"
   ]
  },
  {
   "cell_type": "code",
   "execution_count": 7,
   "metadata": {},
   "outputs": [
    {
     "output_type": "execute_result",
     "data": {
      "text/plain": [
       "1174"
      ]
     },
     "metadata": {},
     "execution_count": 7
    }
   ],
   "source": [
    "#check for missing data\n",
    "empty_cols = [col for col in college_df.columns if college_df[col].isnull().all()]\n",
    "len(empty_cols)"
   ]
  },
  {
   "cell_type": "code",
   "execution_count": 8,
   "metadata": {},
   "outputs": [
    {
     "output_type": "execute_result",
     "data": {
      "text/plain": [
       "['sch_deg', 'locale2', 'UG', 'UGDS_WHITENH', 'UGDS_BLACKNH']"
      ]
     },
     "metadata": {},
     "execution_count": 8
    }
   ],
   "source": [
    "empty_cols[:5]"
   ]
  },
  {
   "cell_type": "code",
   "execution_count": 9,
   "metadata": {},
   "outputs": [
    {
     "output_type": "execute_result",
     "data": {
      "text/plain": [
       "0      NaN\n",
       "1      NaN\n",
       "2      NaN\n",
       "3      NaN\n",
       "4      NaN\n",
       "        ..\n",
       "7799   NaN\n",
       "7800   NaN\n",
       "7801   NaN\n",
       "7802   NaN\n",
       "7803   NaN\n",
       "Name: UG, Length: 7804, dtype: float64"
      ]
     },
     "metadata": {},
     "execution_count": 9
    }
   ],
   "source": [
    "#verify that one of the columns is indeed empty\n",
    "college_df['UG']"
   ]
  },
  {
   "cell_type": "code",
   "execution_count": 10,
   "metadata": {},
   "outputs": [],
   "source": [
    "college_df = college_df.drop(columns=empty_cols)"
   ]
  },
  {
   "cell_type": "code",
   "execution_count": 11,
   "metadata": {},
   "outputs": [
    {
     "output_type": "stream",
     "name": "stdout",
     "text": [
      "<class 'pandas.core.frame.DataFrame'>\nRangeIndex: 7804 entries, 0 to 7803\nColumns: 551 entries, UNITID to NOTFIRSTGEN_RPY_3YR_RT_SUPP\ndtypes: float64(365), int64(12), object(174)\nmemory usage: 32.8+ MB\n"
     ]
    }
   ],
   "source": [
    "#Now the dataframe has just 551 columns\n",
    "college_df.info()"
   ]
  },
  {
   "cell_type": "code",
   "execution_count": 12,
   "metadata": {},
   "outputs": [
    {
     "output_type": "display_data",
     "data": {
      "text/plain": "<Figure size 432x288 with 1 Axes>",
      "image/svg+xml": "<?xml version=\"1.0\" encoding=\"utf-8\" standalone=\"no\"?>\n<!DOCTYPE svg PUBLIC \"-//W3C//DTD SVG 1.1//EN\"\n  \"http://www.w3.org/Graphics/SVG/1.1/DTD/svg11.dtd\">\n<!-- Created with matplotlib (https://matplotlib.org/) -->\n<svg height=\"263.63625pt\" version=\"1.1\" viewBox=\"0 0 392.14375 263.63625\" width=\"392.14375pt\" xmlns=\"http://www.w3.org/2000/svg\" xmlns:xlink=\"http://www.w3.org/1999/xlink\">\n <metadata>\n  <rdf:RDF xmlns:cc=\"http://creativecommons.org/ns#\" xmlns:dc=\"http://purl.org/dc/elements/1.1/\" xmlns:rdf=\"http://www.w3.org/1999/02/22-rdf-syntax-ns#\">\n   <cc:Work>\n    <dc:type rdf:resource=\"http://purl.org/dc/dcmitype/StillImage\"/>\n    <dc:date>2021-05-14T01:40:49.813537</dc:date>\n    <dc:format>image/svg+xml</dc:format>\n    <dc:creator>\n     <cc:Agent>\n      <dc:title>Matplotlib v3.3.2, https://matplotlib.org/</dc:title>\n     </cc:Agent>\n    </dc:creator>\n   </cc:Work>\n  </rdf:RDF>\n </metadata>\n <defs>\n  <style type=\"text/css\">*{stroke-linecap:butt;stroke-linejoin:round;}</style>\n </defs>\n <g id=\"figure_1\">\n  <g id=\"patch_1\">\n   <path d=\"M -0 263.63625 \nL 392.14375 263.63625 \nL 392.14375 0 \nL -0 0 \nz\n\" style=\"fill:none;\"/>\n  </g>\n  <g id=\"axes_1\">\n   <g id=\"patch_2\">\n    <path d=\"M 50.14375 239.758125 \nL 384.94375 239.758125 \nL 384.94375 22.318125 \nL 50.14375 22.318125 \nz\n\" style=\"fill:#ffffff;\"/>\n   </g>\n   <g id=\"PathCollection_1\">\n    <defs>\n     <path d=\"M 0 3 \nC 0.795609 3 1.55874 2.683901 2.12132 2.12132 \nC 2.683901 1.55874 3 0.795609 3 0 \nC 3 -0.795609 2.683901 -1.55874 2.12132 -2.12132 \nC 1.55874 -2.683901 0.795609 -3 0 -3 \nC -0.795609 -3 -1.55874 -2.683901 -2.12132 -2.12132 \nC -2.683901 -1.55874 -3 -0.795609 -3 0 \nC -3 0.795609 -2.683901 1.55874 -2.12132 2.12132 \nC -1.55874 2.683901 -0.795609 3 0 3 \nz\n\" id=\"m23de3f133f\" style=\"stroke:#1f77b4;\"/>\n    </defs>\n    <g clip-path=\"url(#p9162198210)\">\n     <use style=\"fill:#1f77b4;stroke:#1f77b4;\" x=\"65.361932\" xlink:href=\"#m23de3f133f\" y=\"229.874489\"/>\n     <use style=\"fill:#1f77b4;stroke:#1f77b4;\" x=\"69.474954\" xlink:href=\"#m23de3f133f\" y=\"218.433386\"/>\n     <use style=\"fill:#1f77b4;stroke:#1f77b4;\" x=\"73.587976\" xlink:href=\"#m23de3f133f\" y=\"210.24008\"/>\n     <use style=\"fill:#1f77b4;stroke:#1f77b4;\" x=\"77.700998\" xlink:href=\"#m23de3f133f\" y=\"197.617961\"/>\n     <use style=\"fill:#1f77b4;stroke:#1f77b4;\" x=\"81.81402\" xlink:href=\"#m23de3f133f\" y=\"193.410587\"/>\n     <use style=\"fill:#1f77b4;stroke:#1f77b4;\" x=\"85.927042\" xlink:href=\"#m23de3f133f\" y=\"192.524825\"/>\n     <use style=\"fill:#1f77b4;stroke:#1f77b4;\" x=\"90.040064\" xlink:href=\"#m23de3f133f\" y=\"192.524825\"/>\n     <use style=\"fill:#1f77b4;stroke:#1f77b4;\" x=\"94.153087\" xlink:href=\"#m23de3f133f\" y=\"190.753299\"/>\n     <use style=\"fill:#1f77b4;stroke:#1f77b4;\" x=\"98.266109\" xlink:href=\"#m23de3f133f\" y=\"190.753299\"/>\n     <use style=\"fill:#1f77b4;stroke:#1f77b4;\" x=\"102.379131\" xlink:href=\"#m23de3f133f\" y=\"183.371943\"/>\n     <use style=\"fill:#1f77b4;stroke:#1f77b4;\" x=\"106.492153\" xlink:href=\"#m23de3f133f\" y=\"182.855248\"/>\n     <use style=\"fill:#1f77b4;stroke:#1f77b4;\" x=\"110.605175\" xlink:href=\"#m23de3f133f\" y=\"177.171603\"/>\n     <use style=\"fill:#1f77b4;stroke:#1f77b4;\" x=\"114.718197\" xlink:href=\"#m23de3f133f\" y=\"173.99762\"/>\n     <use style=\"fill:#1f77b4;stroke:#1f77b4;\" x=\"118.831219\" xlink:href=\"#m23de3f133f\" y=\"173.923806\"/>\n     <use style=\"fill:#1f77b4;stroke:#1f77b4;\" x=\"122.944241\" xlink:href=\"#m23de3f133f\" y=\"170.454569\"/>\n     <use style=\"fill:#1f77b4;stroke:#1f77b4;\" x=\"127.057264\" xlink:href=\"#m23de3f133f\" y=\"170.306942\"/>\n     <use style=\"fill:#1f77b4;stroke:#1f77b4;\" x=\"131.170286\" xlink:href=\"#m23de3f133f\" y=\"169.494992\"/>\n     <use style=\"fill:#1f77b4;stroke:#1f77b4;\" x=\"135.283308\" xlink:href=\"#m23de3f133f\" y=\"169.494992\"/>\n     <use style=\"fill:#1f77b4;stroke:#1f77b4;\" x=\"139.39633\" xlink:href=\"#m23de3f133f\" y=\"167.280585\"/>\n     <use style=\"fill:#1f77b4;stroke:#1f77b4;\" x=\"143.509352\" xlink:href=\"#m23de3f133f\" y=\"167.280585\"/>\n     <use style=\"fill:#1f77b4;stroke:#1f77b4;\" x=\"147.622374\" xlink:href=\"#m23de3f133f\" y=\"163.073212\"/>\n     <use style=\"fill:#1f77b4;stroke:#1f77b4;\" x=\"151.735396\" xlink:href=\"#m23de3f133f\" y=\"152.074991\"/>\n     <use style=\"fill:#1f77b4;stroke:#1f77b4;\" x=\"155.848418\" xlink:href=\"#m23de3f133f\" y=\"152.074991\"/>\n     <use style=\"fill:#1f77b4;stroke:#1f77b4;\" x=\"159.96144\" xlink:href=\"#m23de3f133f\" y=\"152.074991\"/>\n     <use style=\"fill:#1f77b4;stroke:#1f77b4;\" x=\"164.074463\" xlink:href=\"#m23de3f133f\" y=\"152.074991\"/>\n     <use style=\"fill:#1f77b4;stroke:#1f77b4;\" x=\"168.187485\" xlink:href=\"#m23de3f133f\" y=\"152.074991\"/>\n     <use style=\"fill:#1f77b4;stroke:#1f77b4;\" x=\"172.300507\" xlink:href=\"#m23de3f133f\" y=\"152.074991\"/>\n     <use style=\"fill:#1f77b4;stroke:#1f77b4;\" x=\"176.413529\" xlink:href=\"#m23de3f133f\" y=\"152.001177\"/>\n     <use style=\"fill:#1f77b4;stroke:#1f77b4;\" x=\"180.526551\" xlink:href=\"#m23de3f133f\" y=\"151.927364\"/>\n     <use style=\"fill:#1f77b4;stroke:#1f77b4;\" x=\"184.639573\" xlink:href=\"#m23de3f133f\" y=\"151.63211\"/>\n     <use style=\"fill:#1f77b4;stroke:#1f77b4;\" x=\"188.752595\" xlink:href=\"#m23de3f133f\" y=\"149.860584\"/>\n     <use style=\"fill:#1f77b4;stroke:#1f77b4;\" x=\"192.865617\" xlink:href=\"#m23de3f133f\" y=\"148.827194\"/>\n     <use style=\"fill:#1f77b4;stroke:#1f77b4;\" x=\"196.978639\" xlink:href=\"#m23de3f133f\" y=\"147.055669\"/>\n     <use style=\"fill:#1f77b4;stroke:#1f77b4;\" x=\"201.091662\" xlink:href=\"#m23de3f133f\" y=\"140.486261\"/>\n     <use style=\"fill:#1f77b4;stroke:#1f77b4;\" x=\"205.204684\" xlink:href=\"#m23de3f133f\" y=\"139.231431\"/>\n     <use style=\"fill:#1f77b4;stroke:#1f77b4;\" x=\"209.317706\" xlink:href=\"#m23de3f133f\" y=\"138.640922\"/>\n     <use style=\"fill:#1f77b4;stroke:#1f77b4;\" x=\"213.430728\" xlink:href=\"#m23de3f133f\" y=\"133.252532\"/>\n     <use style=\"fill:#1f77b4;stroke:#1f77b4;\" x=\"217.54375\" xlink:href=\"#m23de3f133f\" y=\"123.361514\"/>\n     <use style=\"fill:#1f77b4;stroke:#1f77b4;\" x=\"221.656772\" xlink:href=\"#m23de3f133f\" y=\"123.06626\"/>\n     <use style=\"fill:#1f77b4;stroke:#1f77b4;\" x=\"225.769794\" xlink:href=\"#m23de3f133f\" y=\"119.96609\"/>\n     <use style=\"fill:#1f77b4;stroke:#1f77b4;\" x=\"229.882816\" xlink:href=\"#m23de3f133f\" y=\"118.416005\"/>\n     <use style=\"fill:#1f77b4;stroke:#1f77b4;\" x=\"233.995838\" xlink:href=\"#m23de3f133f\" y=\"118.342192\"/>\n     <use style=\"fill:#1f77b4;stroke:#1f77b4;\" x=\"238.108861\" xlink:href=\"#m23de3f133f\" y=\"118.268378\"/>\n     <use style=\"fill:#1f77b4;stroke:#1f77b4;\" x=\"242.221883\" xlink:href=\"#m23de3f133f\" y=\"117.161175\"/>\n     <use style=\"fill:#1f77b4;stroke:#1f77b4;\" x=\"246.334905\" xlink:href=\"#m23de3f133f\" y=\"114.872954\"/>\n     <use style=\"fill:#1f77b4;stroke:#1f77b4;\" x=\"250.447927\" xlink:href=\"#m23de3f133f\" y=\"112.953802\"/>\n     <use style=\"fill:#1f77b4;stroke:#1f77b4;\" x=\"254.560949\" xlink:href=\"#m23de3f133f\" y=\"109.115496\"/>\n     <use style=\"fill:#1f77b4;stroke:#1f77b4;\" x=\"258.673971\" xlink:href=\"#m23de3f133f\" y=\"109.115496\"/>\n     <use style=\"fill:#1f77b4;stroke:#1f77b4;\" x=\"262.786993\" xlink:href=\"#m23de3f133f\" y=\"109.115496\"/>\n     <use style=\"fill:#1f77b4;stroke:#1f77b4;\" x=\"266.900015\" xlink:href=\"#m23de3f133f\" y=\"107.860666\"/>\n     <use style=\"fill:#1f77b4;stroke:#1f77b4;\" x=\"271.013037\" xlink:href=\"#m23de3f133f\" y=\"107.12253\"/>\n     <use style=\"fill:#1f77b4;stroke:#1f77b4;\" x=\"275.12606\" xlink:href=\"#m23de3f133f\" y=\"107.12253\"/>\n     <use style=\"fill:#1f77b4;stroke:#1f77b4;\" x=\"279.239082\" xlink:href=\"#m23de3f133f\" y=\"107.12253\"/>\n     <use style=\"fill:#1f77b4;stroke:#1f77b4;\" x=\"283.352104\" xlink:href=\"#m23de3f133f\" y=\"106.08914\"/>\n     <use style=\"fill:#1f77b4;stroke:#1f77b4;\" x=\"287.465126\" xlink:href=\"#m23de3f133f\" y=\"106.08914\"/>\n     <use style=\"fill:#1f77b4;stroke:#1f77b4;\" x=\"291.578148\" xlink:href=\"#m23de3f133f\" y=\"106.08914\"/>\n     <use style=\"fill:#1f77b4;stroke:#1f77b4;\" x=\"295.69117\" xlink:href=\"#m23de3f133f\" y=\"103.800919\"/>\n     <use style=\"fill:#1f77b4;stroke:#1f77b4;\" x=\"299.804192\" xlink:href=\"#m23de3f133f\" y=\"103.284225\"/>\n     <use style=\"fill:#1f77b4;stroke:#1f77b4;\" x=\"303.917214\" xlink:href=\"#m23de3f133f\" y=\"96.124309\"/>\n     <use style=\"fill:#1f77b4;stroke:#1f77b4;\" x=\"308.030236\" xlink:href=\"#m23de3f133f\" y=\"96.124309\"/>\n     <use style=\"fill:#1f77b4;stroke:#1f77b4;\" x=\"312.143259\" xlink:href=\"#m23de3f133f\" y=\"96.124309\"/>\n     <use style=\"fill:#1f77b4;stroke:#1f77b4;\" x=\"316.256281\" xlink:href=\"#m23de3f133f\" y=\"96.050495\"/>\n     <use style=\"fill:#1f77b4;stroke:#1f77b4;\" x=\"320.369303\" xlink:href=\"#m23de3f133f\" y=\"96.050495\"/>\n     <use style=\"fill:#1f77b4;stroke:#1f77b4;\" x=\"324.482325\" xlink:href=\"#m23de3f133f\" y=\"96.050495\"/>\n     <use style=\"fill:#1f77b4;stroke:#1f77b4;\" x=\"328.595347\" xlink:href=\"#m23de3f133f\" y=\"77.744731\"/>\n     <use style=\"fill:#1f77b4;stroke:#1f77b4;\" x=\"332.708369\" xlink:href=\"#m23de3f133f\" y=\"68.591849\"/>\n     <use style=\"fill:#1f77b4;stroke:#1f77b4;\" x=\"336.821391\" xlink:href=\"#m23de3f133f\" y=\"68.591849\"/>\n     <use style=\"fill:#1f77b4;stroke:#1f77b4;\" x=\"340.934413\" xlink:href=\"#m23de3f133f\" y=\"68.591849\"/>\n     <use style=\"fill:#1f77b4;stroke:#1f77b4;\" x=\"345.047436\" xlink:href=\"#m23de3f133f\" y=\"66.229815\"/>\n     <use style=\"fill:#1f77b4;stroke:#1f77b4;\" x=\"349.160458\" xlink:href=\"#m23de3f133f\" y=\"65.417866\"/>\n     <use style=\"fill:#1f77b4;stroke:#1f77b4;\" x=\"353.27348\" xlink:href=\"#m23de3f133f\" y=\"55.453034\"/>\n     <use style=\"fill:#1f77b4;stroke:#1f77b4;\" x=\"357.386502\" xlink:href=\"#m23de3f133f\" y=\"38.992609\"/>\n     <use style=\"fill:#1f77b4;stroke:#1f77b4;\" x=\"361.499524\" xlink:href=\"#m23de3f133f\" y=\"32.201761\"/>\n     <use style=\"fill:#1f77b4;stroke:#1f77b4;\" x=\"365.612546\" xlink:href=\"#m23de3f133f\" y=\"32.201761\"/>\n     <use style=\"fill:#1f77b4;stroke:#1f77b4;\" x=\"369.725568\" xlink:href=\"#m23de3f133f\" y=\"32.201761\"/>\n    </g>\n   </g>\n   <g id=\"matplotlib.axis_1\">\n    <g id=\"xtick_1\">\n     <g id=\"line2d_1\">\n      <defs>\n       <path d=\"M 0 0 \nL 0 3.5 \n\" id=\"md5f46fd43a\" style=\"stroke:#000000;stroke-width:0.8;\"/>\n      </defs>\n      <g>\n       <use style=\"stroke:#000000;stroke-width:0.8;\" x=\"65.361932\" xlink:href=\"#md5f46fd43a\" y=\"239.758125\"/>\n      </g>\n     </g>\n     <g id=\"text_1\">\n      <!-- 0 -->\n      <g transform=\"translate(62.180682 254.356563)scale(0.1 -0.1)\">\n       <defs>\n        <path d=\"M 31.78125 66.40625 \nQ 24.171875 66.40625 20.328125 58.90625 \nQ 16.5 51.421875 16.5 36.375 \nQ 16.5 21.390625 20.328125 13.890625 \nQ 24.171875 6.390625 31.78125 6.390625 \nQ 39.453125 6.390625 43.28125 13.890625 \nQ 47.125 21.390625 47.125 36.375 \nQ 47.125 51.421875 43.28125 58.90625 \nQ 39.453125 66.40625 31.78125 66.40625 \nz\nM 31.78125 74.21875 \nQ 44.046875 74.21875 50.515625 64.515625 \nQ 56.984375 54.828125 56.984375 36.375 \nQ 56.984375 17.96875 50.515625 8.265625 \nQ 44.046875 -1.421875 31.78125 -1.421875 \nQ 19.53125 -1.421875 13.0625 8.265625 \nQ 6.59375 17.96875 6.59375 36.375 \nQ 6.59375 54.828125 13.0625 64.515625 \nQ 19.53125 74.21875 31.78125 74.21875 \nz\n\" id=\"DejaVuSans-48\"/>\n       </defs>\n       <use xlink:href=\"#DejaVuSans-48\"/>\n      </g>\n     </g>\n    </g>\n    <g id=\"xtick_2\">\n     <g id=\"line2d_2\">\n      <g>\n       <use style=\"stroke:#000000;stroke-width:0.8;\" x=\"106.492153\" xlink:href=\"#md5f46fd43a\" y=\"239.758125\"/>\n      </g>\n     </g>\n     <g id=\"text_2\">\n      <!-- 10 -->\n      <g transform=\"translate(100.129653 254.356563)scale(0.1 -0.1)\">\n       <defs>\n        <path d=\"M 12.40625 8.296875 \nL 28.515625 8.296875 \nL 28.515625 63.921875 \nL 10.984375 60.40625 \nL 10.984375 69.390625 \nL 28.421875 72.90625 \nL 38.28125 72.90625 \nL 38.28125 8.296875 \nL 54.390625 8.296875 \nL 54.390625 0 \nL 12.40625 0 \nz\n\" id=\"DejaVuSans-49\"/>\n       </defs>\n       <use xlink:href=\"#DejaVuSans-49\"/>\n       <use x=\"63.623047\" xlink:href=\"#DejaVuSans-48\"/>\n      </g>\n     </g>\n    </g>\n    <g id=\"xtick_3\">\n     <g id=\"line2d_3\">\n      <g>\n       <use style=\"stroke:#000000;stroke-width:0.8;\" x=\"147.622374\" xlink:href=\"#md5f46fd43a\" y=\"239.758125\"/>\n      </g>\n     </g>\n     <g id=\"text_3\">\n      <!-- 20 -->\n      <g transform=\"translate(141.259874 254.356563)scale(0.1 -0.1)\">\n       <defs>\n        <path d=\"M 19.1875 8.296875 \nL 53.609375 8.296875 \nL 53.609375 0 \nL 7.328125 0 \nL 7.328125 8.296875 \nQ 12.9375 14.109375 22.625 23.890625 \nQ 32.328125 33.6875 34.8125 36.53125 \nQ 39.546875 41.84375 41.421875 45.53125 \nQ 43.3125 49.21875 43.3125 52.78125 \nQ 43.3125 58.59375 39.234375 62.25 \nQ 35.15625 65.921875 28.609375 65.921875 \nQ 23.96875 65.921875 18.8125 64.3125 \nQ 13.671875 62.703125 7.8125 59.421875 \nL 7.8125 69.390625 \nQ 13.765625 71.78125 18.9375 73 \nQ 24.125 74.21875 28.421875 74.21875 \nQ 39.75 74.21875 46.484375 68.546875 \nQ 53.21875 62.890625 53.21875 53.421875 \nQ 53.21875 48.921875 51.53125 44.890625 \nQ 49.859375 40.875 45.40625 35.40625 \nQ 44.1875 33.984375 37.640625 27.21875 \nQ 31.109375 20.453125 19.1875 8.296875 \nz\n\" id=\"DejaVuSans-50\"/>\n       </defs>\n       <use xlink:href=\"#DejaVuSans-50\"/>\n       <use x=\"63.623047\" xlink:href=\"#DejaVuSans-48\"/>\n      </g>\n     </g>\n    </g>\n    <g id=\"xtick_4\">\n     <g id=\"line2d_4\">\n      <g>\n       <use style=\"stroke:#000000;stroke-width:0.8;\" x=\"188.752595\" xlink:href=\"#md5f46fd43a\" y=\"239.758125\"/>\n      </g>\n     </g>\n     <g id=\"text_4\">\n      <!-- 30 -->\n      <g transform=\"translate(182.390095 254.356563)scale(0.1 -0.1)\">\n       <defs>\n        <path d=\"M 40.578125 39.3125 \nQ 47.65625 37.796875 51.625 33 \nQ 55.609375 28.21875 55.609375 21.1875 \nQ 55.609375 10.40625 48.1875 4.484375 \nQ 40.765625 -1.421875 27.09375 -1.421875 \nQ 22.515625 -1.421875 17.65625 -0.515625 \nQ 12.796875 0.390625 7.625 2.203125 \nL 7.625 11.71875 \nQ 11.71875 9.328125 16.59375 8.109375 \nQ 21.484375 6.890625 26.8125 6.890625 \nQ 36.078125 6.890625 40.9375 10.546875 \nQ 45.796875 14.203125 45.796875 21.1875 \nQ 45.796875 27.640625 41.28125 31.265625 \nQ 36.765625 34.90625 28.71875 34.90625 \nL 20.21875 34.90625 \nL 20.21875 43.015625 \nL 29.109375 43.015625 \nQ 36.375 43.015625 40.234375 45.921875 \nQ 44.09375 48.828125 44.09375 54.296875 \nQ 44.09375 59.90625 40.109375 62.90625 \nQ 36.140625 65.921875 28.71875 65.921875 \nQ 24.65625 65.921875 20.015625 65.03125 \nQ 15.375 64.15625 9.8125 62.3125 \nL 9.8125 71.09375 \nQ 15.4375 72.65625 20.34375 73.4375 \nQ 25.25 74.21875 29.59375 74.21875 \nQ 40.828125 74.21875 47.359375 69.109375 \nQ 53.90625 64.015625 53.90625 55.328125 \nQ 53.90625 49.265625 50.4375 45.09375 \nQ 46.96875 40.921875 40.578125 39.3125 \nz\n\" id=\"DejaVuSans-51\"/>\n       </defs>\n       <use xlink:href=\"#DejaVuSans-51\"/>\n       <use x=\"63.623047\" xlink:href=\"#DejaVuSans-48\"/>\n      </g>\n     </g>\n    </g>\n    <g id=\"xtick_5\">\n     <g id=\"line2d_5\">\n      <g>\n       <use style=\"stroke:#000000;stroke-width:0.8;\" x=\"229.882816\" xlink:href=\"#md5f46fd43a\" y=\"239.758125\"/>\n      </g>\n     </g>\n     <g id=\"text_5\">\n      <!-- 40 -->\n      <g transform=\"translate(223.520316 254.356563)scale(0.1 -0.1)\">\n       <defs>\n        <path d=\"M 37.796875 64.3125 \nL 12.890625 25.390625 \nL 37.796875 25.390625 \nz\nM 35.203125 72.90625 \nL 47.609375 72.90625 \nL 47.609375 25.390625 \nL 58.015625 25.390625 \nL 58.015625 17.1875 \nL 47.609375 17.1875 \nL 47.609375 0 \nL 37.796875 0 \nL 37.796875 17.1875 \nL 4.890625 17.1875 \nL 4.890625 26.703125 \nz\n\" id=\"DejaVuSans-52\"/>\n       </defs>\n       <use xlink:href=\"#DejaVuSans-52\"/>\n       <use x=\"63.623047\" xlink:href=\"#DejaVuSans-48\"/>\n      </g>\n     </g>\n    </g>\n    <g id=\"xtick_6\">\n     <g id=\"line2d_6\">\n      <g>\n       <use style=\"stroke:#000000;stroke-width:0.8;\" x=\"271.013037\" xlink:href=\"#md5f46fd43a\" y=\"239.758125\"/>\n      </g>\n     </g>\n     <g id=\"text_6\">\n      <!-- 50 -->\n      <g transform=\"translate(264.650537 254.356563)scale(0.1 -0.1)\">\n       <defs>\n        <path d=\"M 10.796875 72.90625 \nL 49.515625 72.90625 \nL 49.515625 64.59375 \nL 19.828125 64.59375 \nL 19.828125 46.734375 \nQ 21.96875 47.46875 24.109375 47.828125 \nQ 26.265625 48.1875 28.421875 48.1875 \nQ 40.625 48.1875 47.75 41.5 \nQ 54.890625 34.8125 54.890625 23.390625 \nQ 54.890625 11.625 47.5625 5.09375 \nQ 40.234375 -1.421875 26.90625 -1.421875 \nQ 22.3125 -1.421875 17.546875 -0.640625 \nQ 12.796875 0.140625 7.71875 1.703125 \nL 7.71875 11.625 \nQ 12.109375 9.234375 16.796875 8.0625 \nQ 21.484375 6.890625 26.703125 6.890625 \nQ 35.15625 6.890625 40.078125 11.328125 \nQ 45.015625 15.765625 45.015625 23.390625 \nQ 45.015625 31 40.078125 35.4375 \nQ 35.15625 39.890625 26.703125 39.890625 \nQ 22.75 39.890625 18.8125 39.015625 \nQ 14.890625 38.140625 10.796875 36.28125 \nz\n\" id=\"DejaVuSans-53\"/>\n       </defs>\n       <use xlink:href=\"#DejaVuSans-53\"/>\n       <use x=\"63.623047\" xlink:href=\"#DejaVuSans-48\"/>\n      </g>\n     </g>\n    </g>\n    <g id=\"xtick_7\">\n     <g id=\"line2d_7\">\n      <g>\n       <use style=\"stroke:#000000;stroke-width:0.8;\" x=\"312.143259\" xlink:href=\"#md5f46fd43a\" y=\"239.758125\"/>\n      </g>\n     </g>\n     <g id=\"text_7\">\n      <!-- 60 -->\n      <g transform=\"translate(305.780759 254.356563)scale(0.1 -0.1)\">\n       <defs>\n        <path d=\"M 33.015625 40.375 \nQ 26.375 40.375 22.484375 35.828125 \nQ 18.609375 31.296875 18.609375 23.390625 \nQ 18.609375 15.53125 22.484375 10.953125 \nQ 26.375 6.390625 33.015625 6.390625 \nQ 39.65625 6.390625 43.53125 10.953125 \nQ 47.40625 15.53125 47.40625 23.390625 \nQ 47.40625 31.296875 43.53125 35.828125 \nQ 39.65625 40.375 33.015625 40.375 \nz\nM 52.59375 71.296875 \nL 52.59375 62.3125 \nQ 48.875 64.0625 45.09375 64.984375 \nQ 41.3125 65.921875 37.59375 65.921875 \nQ 27.828125 65.921875 22.671875 59.328125 \nQ 17.53125 52.734375 16.796875 39.40625 \nQ 19.671875 43.65625 24.015625 45.921875 \nQ 28.375 48.1875 33.59375 48.1875 \nQ 44.578125 48.1875 50.953125 41.515625 \nQ 57.328125 34.859375 57.328125 23.390625 \nQ 57.328125 12.15625 50.6875 5.359375 \nQ 44.046875 -1.421875 33.015625 -1.421875 \nQ 20.359375 -1.421875 13.671875 8.265625 \nQ 6.984375 17.96875 6.984375 36.375 \nQ 6.984375 53.65625 15.1875 63.9375 \nQ 23.390625 74.21875 37.203125 74.21875 \nQ 40.921875 74.21875 44.703125 73.484375 \nQ 48.484375 72.75 52.59375 71.296875 \nz\n\" id=\"DejaVuSans-54\"/>\n       </defs>\n       <use xlink:href=\"#DejaVuSans-54\"/>\n       <use x=\"63.623047\" xlink:href=\"#DejaVuSans-48\"/>\n      </g>\n     </g>\n    </g>\n    <g id=\"xtick_8\">\n     <g id=\"line2d_8\">\n      <g>\n       <use style=\"stroke:#000000;stroke-width:0.8;\" x=\"353.27348\" xlink:href=\"#md5f46fd43a\" y=\"239.758125\"/>\n      </g>\n     </g>\n     <g id=\"text_8\">\n      <!-- 70 -->\n      <g transform=\"translate(346.91098 254.356563)scale(0.1 -0.1)\">\n       <defs>\n        <path d=\"M 8.203125 72.90625 \nL 55.078125 72.90625 \nL 55.078125 68.703125 \nL 28.609375 0 \nL 18.3125 0 \nL 43.21875 64.59375 \nL 8.203125 64.59375 \nz\n\" id=\"DejaVuSans-55\"/>\n       </defs>\n       <use xlink:href=\"#DejaVuSans-55\"/>\n       <use x=\"63.623047\" xlink:href=\"#DejaVuSans-48\"/>\n      </g>\n     </g>\n    </g>\n   </g>\n   <g id=\"matplotlib.axis_2\">\n    <g id=\"ytick_1\">\n     <g id=\"line2d_9\">\n      <defs>\n       <path d=\"M 0 0 \nL -3.5 0 \n\" id=\"m46f6d21317\" style=\"stroke:#000000;stroke-width:0.8;\"/>\n      </defs>\n      <g>\n       <use style=\"stroke:#000000;stroke-width:0.8;\" x=\"50.14375\" xlink:href=\"#m46f6d21317\" y=\"211.672063\"/>\n      </g>\n     </g>\n     <g id=\"text_9\">\n      <!-- 0.65 -->\n      <g transform=\"translate(20.878125 215.471282)scale(0.1 -0.1)\">\n       <defs>\n        <path d=\"M 10.6875 12.40625 \nL 21 12.40625 \nL 21 0 \nL 10.6875 0 \nz\n\" id=\"DejaVuSans-46\"/>\n       </defs>\n       <use xlink:href=\"#DejaVuSans-48\"/>\n       <use x=\"63.623047\" xlink:href=\"#DejaVuSans-46\"/>\n       <use x=\"95.410156\" xlink:href=\"#DejaVuSans-54\"/>\n       <use x=\"159.033203\" xlink:href=\"#DejaVuSans-53\"/>\n      </g>\n     </g>\n    </g>\n    <g id=\"ytick_2\">\n     <g id=\"line2d_10\">\n      <g>\n       <use style=\"stroke:#000000;stroke-width:0.8;\" x=\"50.14375\" xlink:href=\"#m46f6d21317\" y=\"182.87001\"/>\n      </g>\n     </g>\n     <g id=\"text_10\">\n      <!-- 0.70 -->\n      <g transform=\"translate(20.878125 186.669229)scale(0.1 -0.1)\">\n       <use xlink:href=\"#DejaVuSans-48\"/>\n       <use x=\"63.623047\" xlink:href=\"#DejaVuSans-46\"/>\n       <use x=\"95.410156\" xlink:href=\"#DejaVuSans-55\"/>\n       <use x=\"159.033203\" xlink:href=\"#DejaVuSans-48\"/>\n      </g>\n     </g>\n    </g>\n    <g id=\"ytick_3\">\n     <g id=\"line2d_11\">\n      <g>\n       <use style=\"stroke:#000000;stroke-width:0.8;\" x=\"50.14375\" xlink:href=\"#m46f6d21317\" y=\"154.067957\"/>\n      </g>\n     </g>\n     <g id=\"text_11\">\n      <!-- 0.75 -->\n      <g transform=\"translate(20.878125 157.867176)scale(0.1 -0.1)\">\n       <use xlink:href=\"#DejaVuSans-48\"/>\n       <use x=\"63.623047\" xlink:href=\"#DejaVuSans-46\"/>\n       <use x=\"95.410156\" xlink:href=\"#DejaVuSans-55\"/>\n       <use x=\"159.033203\" xlink:href=\"#DejaVuSans-53\"/>\n      </g>\n     </g>\n    </g>\n    <g id=\"ytick_4\">\n     <g id=\"line2d_12\">\n      <g>\n       <use style=\"stroke:#000000;stroke-width:0.8;\" x=\"50.14375\" xlink:href=\"#m46f6d21317\" y=\"125.265904\"/>\n      </g>\n     </g>\n     <g id=\"text_12\">\n      <!-- 0.80 -->\n      <g transform=\"translate(20.878125 129.065123)scale(0.1 -0.1)\">\n       <defs>\n        <path d=\"M 31.78125 34.625 \nQ 24.75 34.625 20.71875 30.859375 \nQ 16.703125 27.09375 16.703125 20.515625 \nQ 16.703125 13.921875 20.71875 10.15625 \nQ 24.75 6.390625 31.78125 6.390625 \nQ 38.8125 6.390625 42.859375 10.171875 \nQ 46.921875 13.96875 46.921875 20.515625 \nQ 46.921875 27.09375 42.890625 30.859375 \nQ 38.875 34.625 31.78125 34.625 \nz\nM 21.921875 38.8125 \nQ 15.578125 40.375 12.03125 44.71875 \nQ 8.5 49.078125 8.5 55.328125 \nQ 8.5 64.0625 14.71875 69.140625 \nQ 20.953125 74.21875 31.78125 74.21875 \nQ 42.671875 74.21875 48.875 69.140625 \nQ 55.078125 64.0625 55.078125 55.328125 \nQ 55.078125 49.078125 51.53125 44.71875 \nQ 48 40.375 41.703125 38.8125 \nQ 48.828125 37.15625 52.796875 32.3125 \nQ 56.78125 27.484375 56.78125 20.515625 \nQ 56.78125 9.90625 50.3125 4.234375 \nQ 43.84375 -1.421875 31.78125 -1.421875 \nQ 19.734375 -1.421875 13.25 4.234375 \nQ 6.78125 9.90625 6.78125 20.515625 \nQ 6.78125 27.484375 10.78125 32.3125 \nQ 14.796875 37.15625 21.921875 38.8125 \nz\nM 18.3125 54.390625 \nQ 18.3125 48.734375 21.84375 45.5625 \nQ 25.390625 42.390625 31.78125 42.390625 \nQ 38.140625 42.390625 41.71875 45.5625 \nQ 45.3125 48.734375 45.3125 54.390625 \nQ 45.3125 60.0625 41.71875 63.234375 \nQ 38.140625 66.40625 31.78125 66.40625 \nQ 25.390625 66.40625 21.84375 63.234375 \nQ 18.3125 60.0625 18.3125 54.390625 \nz\n\" id=\"DejaVuSans-56\"/>\n       </defs>\n       <use xlink:href=\"#DejaVuSans-48\"/>\n       <use x=\"63.623047\" xlink:href=\"#DejaVuSans-46\"/>\n       <use x=\"95.410156\" xlink:href=\"#DejaVuSans-56\"/>\n       <use x=\"159.033203\" xlink:href=\"#DejaVuSans-48\"/>\n      </g>\n     </g>\n    </g>\n    <g id=\"ytick_5\">\n     <g id=\"line2d_13\">\n      <g>\n       <use style=\"stroke:#000000;stroke-width:0.8;\" x=\"50.14375\" xlink:href=\"#m46f6d21317\" y=\"96.463851\"/>\n      </g>\n     </g>\n     <g id=\"text_13\">\n      <!-- 0.85 -->\n      <g transform=\"translate(20.878125 100.26307)scale(0.1 -0.1)\">\n       <use xlink:href=\"#DejaVuSans-48\"/>\n       <use x=\"63.623047\" xlink:href=\"#DejaVuSans-46\"/>\n       <use x=\"95.410156\" xlink:href=\"#DejaVuSans-56\"/>\n       <use x=\"159.033203\" xlink:href=\"#DejaVuSans-53\"/>\n      </g>\n     </g>\n    </g>\n    <g id=\"ytick_6\">\n     <g id=\"line2d_14\">\n      <g>\n       <use style=\"stroke:#000000;stroke-width:0.8;\" x=\"50.14375\" xlink:href=\"#m46f6d21317\" y=\"67.661798\"/>\n      </g>\n     </g>\n     <g id=\"text_14\">\n      <!-- 0.90 -->\n      <g transform=\"translate(20.878125 71.461017)scale(0.1 -0.1)\">\n       <defs>\n        <path d=\"M 10.984375 1.515625 \nL 10.984375 10.5 \nQ 14.703125 8.734375 18.5 7.8125 \nQ 22.3125 6.890625 25.984375 6.890625 \nQ 35.75 6.890625 40.890625 13.453125 \nQ 46.046875 20.015625 46.78125 33.40625 \nQ 43.953125 29.203125 39.59375 26.953125 \nQ 35.25 24.703125 29.984375 24.703125 \nQ 19.046875 24.703125 12.671875 31.3125 \nQ 6.296875 37.9375 6.296875 49.421875 \nQ 6.296875 60.640625 12.9375 67.421875 \nQ 19.578125 74.21875 30.609375 74.21875 \nQ 43.265625 74.21875 49.921875 64.515625 \nQ 56.59375 54.828125 56.59375 36.375 \nQ 56.59375 19.140625 48.40625 8.859375 \nQ 40.234375 -1.421875 26.421875 -1.421875 \nQ 22.703125 -1.421875 18.890625 -0.6875 \nQ 15.09375 0.046875 10.984375 1.515625 \nz\nM 30.609375 32.421875 \nQ 37.25 32.421875 41.125 36.953125 \nQ 45.015625 41.5 45.015625 49.421875 \nQ 45.015625 57.28125 41.125 61.84375 \nQ 37.25 66.40625 30.609375 66.40625 \nQ 23.96875 66.40625 20.09375 61.84375 \nQ 16.21875 57.28125 16.21875 49.421875 \nQ 16.21875 41.5 20.09375 36.953125 \nQ 23.96875 32.421875 30.609375 32.421875 \nz\n\" id=\"DejaVuSans-57\"/>\n       </defs>\n       <use xlink:href=\"#DejaVuSans-48\"/>\n       <use x=\"63.623047\" xlink:href=\"#DejaVuSans-46\"/>\n       <use x=\"95.410156\" xlink:href=\"#DejaVuSans-57\"/>\n       <use x=\"159.033203\" xlink:href=\"#DejaVuSans-48\"/>\n      </g>\n     </g>\n    </g>\n    <g id=\"ytick_7\">\n     <g id=\"line2d_15\">\n      <g>\n       <use style=\"stroke:#000000;stroke-width:0.8;\" x=\"50.14375\" xlink:href=\"#m46f6d21317\" y=\"38.859745\"/>\n      </g>\n     </g>\n     <g id=\"text_15\">\n      <!-- 0.95 -->\n      <g transform=\"translate(20.878125 42.658964)scale(0.1 -0.1)\">\n       <use xlink:href=\"#DejaVuSans-48\"/>\n       <use x=\"63.623047\" xlink:href=\"#DejaVuSans-46\"/>\n       <use x=\"95.410156\" xlink:href=\"#DejaVuSans-57\"/>\n       <use x=\"159.033203\" xlink:href=\"#DejaVuSans-53\"/>\n      </g>\n     </g>\n    </g>\n    <g id=\"text_16\">\n     <!-- Percentage of missing values -->\n     <g transform=\"translate(14.798438 204.210781)rotate(-90)scale(0.1 -0.1)\">\n      <defs>\n       <path d=\"M 19.671875 64.796875 \nL 19.671875 37.40625 \nL 32.078125 37.40625 \nQ 38.96875 37.40625 42.71875 40.96875 \nQ 46.484375 44.53125 46.484375 51.125 \nQ 46.484375 57.671875 42.71875 61.234375 \nQ 38.96875 64.796875 32.078125 64.796875 \nz\nM 9.8125 72.90625 \nL 32.078125 72.90625 \nQ 44.34375 72.90625 50.609375 67.359375 \nQ 56.890625 61.8125 56.890625 51.125 \nQ 56.890625 40.328125 50.609375 34.8125 \nQ 44.34375 29.296875 32.078125 29.296875 \nL 19.671875 29.296875 \nL 19.671875 0 \nL 9.8125 0 \nz\n\" id=\"DejaVuSans-80\"/>\n       <path d=\"M 56.203125 29.59375 \nL 56.203125 25.203125 \nL 14.890625 25.203125 \nQ 15.484375 15.921875 20.484375 11.0625 \nQ 25.484375 6.203125 34.421875 6.203125 \nQ 39.59375 6.203125 44.453125 7.46875 \nQ 49.3125 8.734375 54.109375 11.28125 \nL 54.109375 2.78125 \nQ 49.265625 0.734375 44.1875 -0.34375 \nQ 39.109375 -1.421875 33.890625 -1.421875 \nQ 20.796875 -1.421875 13.15625 6.1875 \nQ 5.515625 13.8125 5.515625 26.8125 \nQ 5.515625 40.234375 12.765625 48.109375 \nQ 20.015625 56 32.328125 56 \nQ 43.359375 56 49.78125 48.890625 \nQ 56.203125 41.796875 56.203125 29.59375 \nz\nM 47.21875 32.234375 \nQ 47.125 39.59375 43.09375 43.984375 \nQ 39.0625 48.390625 32.421875 48.390625 \nQ 24.90625 48.390625 20.390625 44.140625 \nQ 15.875 39.890625 15.1875 32.171875 \nz\n\" id=\"DejaVuSans-101\"/>\n       <path d=\"M 41.109375 46.296875 \nQ 39.59375 47.171875 37.8125 47.578125 \nQ 36.03125 48 33.890625 48 \nQ 26.265625 48 22.1875 43.046875 \nQ 18.109375 38.09375 18.109375 28.8125 \nL 18.109375 0 \nL 9.078125 0 \nL 9.078125 54.6875 \nL 18.109375 54.6875 \nL 18.109375 46.1875 \nQ 20.953125 51.171875 25.484375 53.578125 \nQ 30.03125 56 36.53125 56 \nQ 37.453125 56 38.578125 55.875 \nQ 39.703125 55.765625 41.0625 55.515625 \nz\n\" id=\"DejaVuSans-114\"/>\n       <path d=\"M 48.78125 52.59375 \nL 48.78125 44.1875 \nQ 44.96875 46.296875 41.140625 47.34375 \nQ 37.3125 48.390625 33.40625 48.390625 \nQ 24.65625 48.390625 19.8125 42.84375 \nQ 14.984375 37.3125 14.984375 27.296875 \nQ 14.984375 17.28125 19.8125 11.734375 \nQ 24.65625 6.203125 33.40625 6.203125 \nQ 37.3125 6.203125 41.140625 7.25 \nQ 44.96875 8.296875 48.78125 10.40625 \nL 48.78125 2.09375 \nQ 45.015625 0.34375 40.984375 -0.53125 \nQ 36.96875 -1.421875 32.421875 -1.421875 \nQ 20.0625 -1.421875 12.78125 6.34375 \nQ 5.515625 14.109375 5.515625 27.296875 \nQ 5.515625 40.671875 12.859375 48.328125 \nQ 20.21875 56 33.015625 56 \nQ 37.15625 56 41.109375 55.140625 \nQ 45.0625 54.296875 48.78125 52.59375 \nz\n\" id=\"DejaVuSans-99\"/>\n       <path d=\"M 54.890625 33.015625 \nL 54.890625 0 \nL 45.90625 0 \nL 45.90625 32.71875 \nQ 45.90625 40.484375 42.875 44.328125 \nQ 39.84375 48.1875 33.796875 48.1875 \nQ 26.515625 48.1875 22.3125 43.546875 \nQ 18.109375 38.921875 18.109375 30.90625 \nL 18.109375 0 \nL 9.078125 0 \nL 9.078125 54.6875 \nL 18.109375 54.6875 \nL 18.109375 46.1875 \nQ 21.34375 51.125 25.703125 53.5625 \nQ 30.078125 56 35.796875 56 \nQ 45.21875 56 50.046875 50.171875 \nQ 54.890625 44.34375 54.890625 33.015625 \nz\n\" id=\"DejaVuSans-110\"/>\n       <path d=\"M 18.3125 70.21875 \nL 18.3125 54.6875 \nL 36.8125 54.6875 \nL 36.8125 47.703125 \nL 18.3125 47.703125 \nL 18.3125 18.015625 \nQ 18.3125 11.328125 20.140625 9.421875 \nQ 21.96875 7.515625 27.59375 7.515625 \nL 36.8125 7.515625 \nL 36.8125 0 \nL 27.59375 0 \nQ 17.1875 0 13.234375 3.875 \nQ 9.28125 7.765625 9.28125 18.015625 \nL 9.28125 47.703125 \nL 2.6875 47.703125 \nL 2.6875 54.6875 \nL 9.28125 54.6875 \nL 9.28125 70.21875 \nz\n\" id=\"DejaVuSans-116\"/>\n       <path d=\"M 34.28125 27.484375 \nQ 23.390625 27.484375 19.1875 25 \nQ 14.984375 22.515625 14.984375 16.5 \nQ 14.984375 11.71875 18.140625 8.90625 \nQ 21.296875 6.109375 26.703125 6.109375 \nQ 34.1875 6.109375 38.703125 11.40625 \nQ 43.21875 16.703125 43.21875 25.484375 \nL 43.21875 27.484375 \nz\nM 52.203125 31.203125 \nL 52.203125 0 \nL 43.21875 0 \nL 43.21875 8.296875 \nQ 40.140625 3.328125 35.546875 0.953125 \nQ 30.953125 -1.421875 24.3125 -1.421875 \nQ 15.921875 -1.421875 10.953125 3.296875 \nQ 6 8.015625 6 15.921875 \nQ 6 25.140625 12.171875 29.828125 \nQ 18.359375 34.515625 30.609375 34.515625 \nL 43.21875 34.515625 \nL 43.21875 35.40625 \nQ 43.21875 41.609375 39.140625 45 \nQ 35.0625 48.390625 27.6875 48.390625 \nQ 23 48.390625 18.546875 47.265625 \nQ 14.109375 46.140625 10.015625 43.890625 \nL 10.015625 52.203125 \nQ 14.9375 54.109375 19.578125 55.046875 \nQ 24.21875 56 28.609375 56 \nQ 40.484375 56 46.34375 49.84375 \nQ 52.203125 43.703125 52.203125 31.203125 \nz\n\" id=\"DejaVuSans-97\"/>\n       <path d=\"M 45.40625 27.984375 \nQ 45.40625 37.75 41.375 43.109375 \nQ 37.359375 48.484375 30.078125 48.484375 \nQ 22.859375 48.484375 18.828125 43.109375 \nQ 14.796875 37.75 14.796875 27.984375 \nQ 14.796875 18.265625 18.828125 12.890625 \nQ 22.859375 7.515625 30.078125 7.515625 \nQ 37.359375 7.515625 41.375 12.890625 \nQ 45.40625 18.265625 45.40625 27.984375 \nz\nM 54.390625 6.78125 \nQ 54.390625 -7.171875 48.1875 -13.984375 \nQ 42 -20.796875 29.203125 -20.796875 \nQ 24.46875 -20.796875 20.265625 -20.09375 \nQ 16.0625 -19.390625 12.109375 -17.921875 \nL 12.109375 -9.1875 \nQ 16.0625 -11.328125 19.921875 -12.34375 \nQ 23.78125 -13.375 27.78125 -13.375 \nQ 36.625 -13.375 41.015625 -8.765625 \nQ 45.40625 -4.15625 45.40625 5.171875 \nL 45.40625 9.625 \nQ 42.625 4.78125 38.28125 2.390625 \nQ 33.9375 0 27.875 0 \nQ 17.828125 0 11.671875 7.65625 \nQ 5.515625 15.328125 5.515625 27.984375 \nQ 5.515625 40.671875 11.671875 48.328125 \nQ 17.828125 56 27.875 56 \nQ 33.9375 56 38.28125 53.609375 \nQ 42.625 51.21875 45.40625 46.390625 \nL 45.40625 54.6875 \nL 54.390625 54.6875 \nz\n\" id=\"DejaVuSans-103\"/>\n       <path id=\"DejaVuSans-32\"/>\n       <path d=\"M 30.609375 48.390625 \nQ 23.390625 48.390625 19.1875 42.75 \nQ 14.984375 37.109375 14.984375 27.296875 \nQ 14.984375 17.484375 19.15625 11.84375 \nQ 23.34375 6.203125 30.609375 6.203125 \nQ 37.796875 6.203125 41.984375 11.859375 \nQ 46.1875 17.53125 46.1875 27.296875 \nQ 46.1875 37.015625 41.984375 42.703125 \nQ 37.796875 48.390625 30.609375 48.390625 \nz\nM 30.609375 56 \nQ 42.328125 56 49.015625 48.375 \nQ 55.71875 40.765625 55.71875 27.296875 \nQ 55.71875 13.875 49.015625 6.21875 \nQ 42.328125 -1.421875 30.609375 -1.421875 \nQ 18.84375 -1.421875 12.171875 6.21875 \nQ 5.515625 13.875 5.515625 27.296875 \nQ 5.515625 40.765625 12.171875 48.375 \nQ 18.84375 56 30.609375 56 \nz\n\" id=\"DejaVuSans-111\"/>\n       <path d=\"M 37.109375 75.984375 \nL 37.109375 68.5 \nL 28.515625 68.5 \nQ 23.6875 68.5 21.796875 66.546875 \nQ 19.921875 64.59375 19.921875 59.515625 \nL 19.921875 54.6875 \nL 34.71875 54.6875 \nL 34.71875 47.703125 \nL 19.921875 47.703125 \nL 19.921875 0 \nL 10.890625 0 \nL 10.890625 47.703125 \nL 2.296875 47.703125 \nL 2.296875 54.6875 \nL 10.890625 54.6875 \nL 10.890625 58.5 \nQ 10.890625 67.625 15.140625 71.796875 \nQ 19.390625 75.984375 28.609375 75.984375 \nz\n\" id=\"DejaVuSans-102\"/>\n       <path d=\"M 52 44.1875 \nQ 55.375 50.25 60.0625 53.125 \nQ 64.75 56 71.09375 56 \nQ 79.640625 56 84.28125 50.015625 \nQ 88.921875 44.046875 88.921875 33.015625 \nL 88.921875 0 \nL 79.890625 0 \nL 79.890625 32.71875 \nQ 79.890625 40.578125 77.09375 44.375 \nQ 74.3125 48.1875 68.609375 48.1875 \nQ 61.625 48.1875 57.5625 43.546875 \nQ 53.515625 38.921875 53.515625 30.90625 \nL 53.515625 0 \nL 44.484375 0 \nL 44.484375 32.71875 \nQ 44.484375 40.625 41.703125 44.40625 \nQ 38.921875 48.1875 33.109375 48.1875 \nQ 26.21875 48.1875 22.15625 43.53125 \nQ 18.109375 38.875 18.109375 30.90625 \nL 18.109375 0 \nL 9.078125 0 \nL 9.078125 54.6875 \nL 18.109375 54.6875 \nL 18.109375 46.1875 \nQ 21.1875 51.21875 25.484375 53.609375 \nQ 29.78125 56 35.6875 56 \nQ 41.65625 56 45.828125 52.96875 \nQ 50 49.953125 52 44.1875 \nz\n\" id=\"DejaVuSans-109\"/>\n       <path d=\"M 9.421875 54.6875 \nL 18.40625 54.6875 \nL 18.40625 0 \nL 9.421875 0 \nz\nM 9.421875 75.984375 \nL 18.40625 75.984375 \nL 18.40625 64.59375 \nL 9.421875 64.59375 \nz\n\" id=\"DejaVuSans-105\"/>\n       <path d=\"M 44.28125 53.078125 \nL 44.28125 44.578125 \nQ 40.484375 46.53125 36.375 47.5 \nQ 32.28125 48.484375 27.875 48.484375 \nQ 21.1875 48.484375 17.84375 46.4375 \nQ 14.5 44.390625 14.5 40.28125 \nQ 14.5 37.15625 16.890625 35.375 \nQ 19.28125 33.59375 26.515625 31.984375 \nL 29.59375 31.296875 \nQ 39.15625 29.25 43.1875 25.515625 \nQ 47.21875 21.78125 47.21875 15.09375 \nQ 47.21875 7.46875 41.1875 3.015625 \nQ 35.15625 -1.421875 24.609375 -1.421875 \nQ 20.21875 -1.421875 15.453125 -0.5625 \nQ 10.6875 0.296875 5.421875 2 \nL 5.421875 11.28125 \nQ 10.40625 8.6875 15.234375 7.390625 \nQ 20.0625 6.109375 24.8125 6.109375 \nQ 31.15625 6.109375 34.5625 8.28125 \nQ 37.984375 10.453125 37.984375 14.40625 \nQ 37.984375 18.0625 35.515625 20.015625 \nQ 33.0625 21.96875 24.703125 23.78125 \nL 21.578125 24.515625 \nQ 13.234375 26.265625 9.515625 29.90625 \nQ 5.8125 33.546875 5.8125 39.890625 \nQ 5.8125 47.609375 11.28125 51.796875 \nQ 16.75 56 26.8125 56 \nQ 31.78125 56 36.171875 55.265625 \nQ 40.578125 54.546875 44.28125 53.078125 \nz\n\" id=\"DejaVuSans-115\"/>\n       <path d=\"M 2.984375 54.6875 \nL 12.5 54.6875 \nL 29.59375 8.796875 \nL 46.6875 54.6875 \nL 56.203125 54.6875 \nL 35.6875 0 \nL 23.484375 0 \nz\n\" id=\"DejaVuSans-118\"/>\n       <path d=\"M 9.421875 75.984375 \nL 18.40625 75.984375 \nL 18.40625 0 \nL 9.421875 0 \nz\n\" id=\"DejaVuSans-108\"/>\n       <path d=\"M 8.5 21.578125 \nL 8.5 54.6875 \nL 17.484375 54.6875 \nL 17.484375 21.921875 \nQ 17.484375 14.15625 20.5 10.265625 \nQ 23.53125 6.390625 29.59375 6.390625 \nQ 36.859375 6.390625 41.078125 11.03125 \nQ 45.3125 15.671875 45.3125 23.6875 \nL 45.3125 54.6875 \nL 54.296875 54.6875 \nL 54.296875 0 \nL 45.3125 0 \nL 45.3125 8.40625 \nQ 42.046875 3.421875 37.71875 1 \nQ 33.40625 -1.421875 27.6875 -1.421875 \nQ 18.265625 -1.421875 13.375 4.4375 \nQ 8.5 10.296875 8.5 21.578125 \nz\nM 31.109375 56 \nz\n\" id=\"DejaVuSans-117\"/>\n      </defs>\n      <use xlink:href=\"#DejaVuSans-80\"/>\n      <use x=\"56.677734\" xlink:href=\"#DejaVuSans-101\"/>\n      <use x=\"118.201172\" xlink:href=\"#DejaVuSans-114\"/>\n      <use x=\"157.064453\" xlink:href=\"#DejaVuSans-99\"/>\n      <use x=\"212.044922\" xlink:href=\"#DejaVuSans-101\"/>\n      <use x=\"273.568359\" xlink:href=\"#DejaVuSans-110\"/>\n      <use x=\"336.947266\" xlink:href=\"#DejaVuSans-116\"/>\n      <use x=\"376.15625\" xlink:href=\"#DejaVuSans-97\"/>\n      <use x=\"437.435547\" xlink:href=\"#DejaVuSans-103\"/>\n      <use x=\"500.912109\" xlink:href=\"#DejaVuSans-101\"/>\n      <use x=\"562.435547\" xlink:href=\"#DejaVuSans-32\"/>\n      <use x=\"594.222656\" xlink:href=\"#DejaVuSans-111\"/>\n      <use x=\"655.404297\" xlink:href=\"#DejaVuSans-102\"/>\n      <use x=\"690.609375\" xlink:href=\"#DejaVuSans-32\"/>\n      <use x=\"722.396484\" xlink:href=\"#DejaVuSans-109\"/>\n      <use x=\"819.808594\" xlink:href=\"#DejaVuSans-105\"/>\n      <use x=\"847.591797\" xlink:href=\"#DejaVuSans-115\"/>\n      <use x=\"899.691406\" xlink:href=\"#DejaVuSans-115\"/>\n      <use x=\"951.791016\" xlink:href=\"#DejaVuSans-105\"/>\n      <use x=\"979.574219\" xlink:href=\"#DejaVuSans-110\"/>\n      <use x=\"1042.953125\" xlink:href=\"#DejaVuSans-103\"/>\n      <use x=\"1106.429688\" xlink:href=\"#DejaVuSans-32\"/>\n      <use x=\"1138.216797\" xlink:href=\"#DejaVuSans-118\"/>\n      <use x=\"1197.396484\" xlink:href=\"#DejaVuSans-97\"/>\n      <use x=\"1258.675781\" xlink:href=\"#DejaVuSans-108\"/>\n      <use x=\"1286.458984\" xlink:href=\"#DejaVuSans-117\"/>\n      <use x=\"1349.837891\" xlink:href=\"#DejaVuSans-101\"/>\n      <use x=\"1411.361328\" xlink:href=\"#DejaVuSans-115\"/>\n     </g>\n    </g>\n   </g>\n   <g id=\"patch_3\">\n    <path d=\"M 50.14375 239.758125 \nL 50.14375 22.318125 \n\" style=\"fill:none;stroke:#000000;stroke-linecap:square;stroke-linejoin:miter;stroke-width:0.8;\"/>\n   </g>\n   <g id=\"patch_4\">\n    <path d=\"M 384.94375 239.758125 \nL 384.94375 22.318125 \n\" style=\"fill:none;stroke:#000000;stroke-linecap:square;stroke-linejoin:miter;stroke-width:0.8;\"/>\n   </g>\n   <g id=\"patch_5\">\n    <path d=\"M 50.14375 239.758125 \nL 384.94375 239.758125 \n\" style=\"fill:none;stroke:#000000;stroke-linecap:square;stroke-linejoin:miter;stroke-width:0.8;\"/>\n   </g>\n   <g id=\"patch_6\">\n    <path d=\"M 50.14375 22.318125 \nL 384.94375 22.318125 \n\" style=\"fill:none;stroke:#000000;stroke-linecap:square;stroke-linejoin:miter;stroke-width:0.8;\"/>\n   </g>\n   <g id=\"text_17\">\n    <!-- Missing values plot for columns -->\n    <g transform=\"translate(123.06625 16.318125)scale(0.12 -0.12)\">\n     <defs>\n      <path d=\"M 9.8125 72.90625 \nL 24.515625 72.90625 \nL 43.109375 23.296875 \nL 61.8125 72.90625 \nL 76.515625 72.90625 \nL 76.515625 0 \nL 66.890625 0 \nL 66.890625 64.015625 \nL 48.09375 14.015625 \nL 38.1875 14.015625 \nL 19.390625 64.015625 \nL 19.390625 0 \nL 9.8125 0 \nz\n\" id=\"DejaVuSans-77\"/>\n      <path d=\"M 18.109375 8.203125 \nL 18.109375 -20.796875 \nL 9.078125 -20.796875 \nL 9.078125 54.6875 \nL 18.109375 54.6875 \nL 18.109375 46.390625 \nQ 20.953125 51.265625 25.265625 53.625 \nQ 29.59375 56 35.59375 56 \nQ 45.5625 56 51.78125 48.09375 \nQ 58.015625 40.1875 58.015625 27.296875 \nQ 58.015625 14.40625 51.78125 6.484375 \nQ 45.5625 -1.421875 35.59375 -1.421875 \nQ 29.59375 -1.421875 25.265625 0.953125 \nQ 20.953125 3.328125 18.109375 8.203125 \nz\nM 48.6875 27.296875 \nQ 48.6875 37.203125 44.609375 42.84375 \nQ 40.53125 48.484375 33.40625 48.484375 \nQ 26.265625 48.484375 22.1875 42.84375 \nQ 18.109375 37.203125 18.109375 27.296875 \nQ 18.109375 17.390625 22.1875 11.75 \nQ 26.265625 6.109375 33.40625 6.109375 \nQ 40.53125 6.109375 44.609375 11.75 \nQ 48.6875 17.390625 48.6875 27.296875 \nz\n\" id=\"DejaVuSans-112\"/>\n     </defs>\n     <use xlink:href=\"#DejaVuSans-77\"/>\n     <use x=\"86.279297\" xlink:href=\"#DejaVuSans-105\"/>\n     <use x=\"114.0625\" xlink:href=\"#DejaVuSans-115\"/>\n     <use x=\"166.162109\" xlink:href=\"#DejaVuSans-115\"/>\n     <use x=\"218.261719\" xlink:href=\"#DejaVuSans-105\"/>\n     <use x=\"246.044922\" xlink:href=\"#DejaVuSans-110\"/>\n     <use x=\"309.423828\" xlink:href=\"#DejaVuSans-103\"/>\n     <use x=\"372.900391\" xlink:href=\"#DejaVuSans-32\"/>\n     <use x=\"404.6875\" xlink:href=\"#DejaVuSans-118\"/>\n     <use x=\"463.867188\" xlink:href=\"#DejaVuSans-97\"/>\n     <use x=\"525.146484\" xlink:href=\"#DejaVuSans-108\"/>\n     <use x=\"552.929688\" xlink:href=\"#DejaVuSans-117\"/>\n     <use x=\"616.308594\" xlink:href=\"#DejaVuSans-101\"/>\n     <use x=\"677.832031\" xlink:href=\"#DejaVuSans-115\"/>\n     <use x=\"729.931641\" xlink:href=\"#DejaVuSans-32\"/>\n     <use x=\"761.71875\" xlink:href=\"#DejaVuSans-112\"/>\n     <use x=\"825.195312\" xlink:href=\"#DejaVuSans-108\"/>\n     <use x=\"852.978516\" xlink:href=\"#DejaVuSans-111\"/>\n     <use x=\"914.160156\" xlink:href=\"#DejaVuSans-116\"/>\n     <use x=\"953.369141\" xlink:href=\"#DejaVuSans-32\"/>\n     <use x=\"985.15625\" xlink:href=\"#DejaVuSans-102\"/>\n     <use x=\"1020.361328\" xlink:href=\"#DejaVuSans-111\"/>\n     <use x=\"1081.542969\" xlink:href=\"#DejaVuSans-114\"/>\n     <use x=\"1122.65625\" xlink:href=\"#DejaVuSans-32\"/>\n     <use x=\"1154.443359\" xlink:href=\"#DejaVuSans-99\"/>\n     <use x=\"1209.423828\" xlink:href=\"#DejaVuSans-111\"/>\n     <use x=\"1270.605469\" xlink:href=\"#DejaVuSans-108\"/>\n     <use x=\"1298.388672\" xlink:href=\"#DejaVuSans-117\"/>\n     <use x=\"1361.767578\" xlink:href=\"#DejaVuSans-109\"/>\n     <use x=\"1459.179688\" xlink:href=\"#DejaVuSans-110\"/>\n     <use x=\"1522.558594\" xlink:href=\"#DejaVuSans-115\"/>\n    </g>\n   </g>\n  </g>\n </g>\n <defs>\n  <clipPath id=\"p9162198210\">\n   <rect height=\"217.44\" width=\"334.8\" x=\"50.14375\" y=\"22.318125\"/>\n  </clipPath>\n </defs>\n</svg>\n",
      "image/png": "[encoded data removed]"
     },
     "metadata": {
      "needs_background": "light"
     }
    }
   ],
   "source": [
    "#Determine a good threshold for missing values from a plot in the range [0.6, 1]\n",
    "percent_missing = college_df.isnull().sum()/len(college_df)\n",
    "shortlist = percent_missing[percent_missing > 0.6].sort_values()\n",
    "plt.scatter(x=range(len(shortlist)), y=shortlist.values)\n",
    "plt.title(\"Missing values plot for columns\")\n",
    "plt.ylabel(\"Percentage of missing values\")\n",
    "plt.show()"
   ]
  },
  {
   "cell_type": "code",
   "execution_count": 13,
   "metadata": {},
   "outputs": [
    {
     "output_type": "execute_result",
     "data": {
      "text/plain": [
       "(7804, 486)"
      ]
     },
     "metadata": {},
     "execution_count": 13
    }
   ],
   "source": [
    "#Drop columns with more than 70% missing values\n",
    "missing_threshold = 0.70\n",
    "college_df_test = college_df.loc[:, college_df.isna().mean() < missing_threshold]\n",
    "college_df_test.shape"
   ]
  },
  {
   "cell_type": "code",
   "execution_count": 14,
   "metadata": {},
   "outputs": [
    {
     "output_type": "execute_result",
     "data": {
      "text/plain": [
       "(7804, 486)"
      ]
     },
     "metadata": {},
     "execution_count": 14
    }
   ],
   "source": [
    "#Drop columns with constant data\n",
    "college_df_test = college_df_test.loc[:, college_df.nunique() > 1]\n",
    "college_df_test.shape"
   ]
  },
  {
   "cell_type": "code",
   "execution_count": 15,
   "metadata": {},
   "outputs": [
    {
     "output_type": "stream",
     "name": "stderr",
     "text": [
      "/Users/sidharthramanan/anaconda3/lib/python3.7/site-packages/sklearn/feature_selection/_variance_threshold.py:77: RuntimeWarning: Degrees of freedom <= 0 for slice.\n  self.variances_ = np.nanvar(X, axis=0)\n"
     ]
    },
    {
     "output_type": "execute_result",
     "data": {
      "text/plain": [
       "(7804, 312)"
      ]
     },
     "metadata": {},
     "execution_count": 15
    }
   ],
   "source": [
    "#Drop columns with low variance\n",
    "from sklearn.feature_selection import VarianceThreshold\n",
    "sel = VarianceThreshold(threshold=0.001)\n",
    "sel.fit(college_df_test/college_df_test.mean()) #Divide by mean to normalize the features\n",
    "mask = sel.get_support()\n",
    "reduced_college_df = college_df_test.loc[:, mask]\n",
    "reduced_college_df.shape"
   ]
  },
  {
   "cell_type": "code",
   "execution_count": 16,
   "metadata": {},
   "outputs": [
    {
     "output_type": "execute_result",
     "data": {
      "text/plain": [
       "(7804, 222)"
      ]
     },
     "metadata": {},
     "execution_count": 16
    }
   ],
   "source": [
    "#Drop columns with highly correlated features\n",
    "corr_df = reduced_college_df.corr().abs()\n",
    "corr_mask = np.triu(np.ones_like(corr_df, dtype=bool))\n",
    "tri_df = corr_df.mask(corr_mask)\n",
    "to_drop = [c for c in tri_df.columns if any(tri_df[c] >  0.70)]\n",
    "reduced_corr_df = reduced_college_df.drop(to_drop, axis=1)\n",
    "reduced_corr_df.shape"
   ]
  },
  {
   "cell_type": "code",
   "execution_count": 17,
   "metadata": {},
   "outputs": [
    {
     "output_type": "execute_result",
     "data": {
      "text/plain": [
       "213"
      ]
     },
     "metadata": {},
     "execution_count": 17
    }
   ],
   "source": [
    "#Count missing values by columns\n",
    "columns_missing_data = [col for col in reduced_corr_df.columns if reduced_corr_df[col].isna().sum() > 0]\n",
    "len(columns_missing_data)"
   ]
  },
  {
   "cell_type": "code",
   "execution_count": 18,
   "metadata": {},
   "outputs": [],
   "source": [
    "#Impute the missing values - median for numeric columns,\n",
    "numeric_cols = reduced_corr_df.select_dtypes('number')\n",
    "string_cols = reduced_corr_df.select_dtypes('object')\n",
    "reduced_corr_df[numeric_cols.columns] = reduced_corr_df[numeric_cols.columns].fillna(numeric_cols.median())\n",
    "#reduced_corr_df[string_cols.columns] = string_cols.fillna(string_cols.agg(lambda x: x.mode().values[0]))"
   ]
  },
  {
   "cell_type": "code",
   "execution_count": 19,
   "metadata": {},
   "outputs": [
    {
     "output_type": "execute_result",
     "data": {
      "text/plain": [
       "                             INSTURL NOTFIRSTGEN_RPY_5YR_RT   RPY_7YR_RT  \\\n",
       "0                      www.aamu.edu/            0.497700092  0.617647059   \n",
       "1                        www.uab.edu             0.79389313  0.812947799   \n",
       "2          www.amridgeuniversity.edu            0.605263158  0.760517799   \n",
       "3                        www.uah.edu             0.80962129  0.822929172   \n",
       "4     www.alasu.edu/email/index.aspx            0.411811652  0.533038255   \n",
       "...                              ...                    ...          ...   \n",
       "7799   http://columbus.gmc.cc.ga.us/            0.517137097  0.591575092   \n",
       "7800   http://valdosta.gmc.cc.ga.us/            0.517137097  0.591575092   \n",
       "7801     http://robins.gmc.cc.ga.us/            0.517137097  0.591575092   \n",
       "7802     http://online.gmc.cc.ga.us/            0.517137097  0.591575092   \n",
       "7803   http://fairburn.gmc.cc.ga.us/            0.517137097  0.591575092   \n",
       "\n",
       "         IND_INC_PCT_M1     IND_INC_PCT_M2     IND_INC_PCT_H1  \\\n",
       "0     PrivacySuppressed  PrivacySuppressed  PrivacySuppressed   \n",
       "1           0.142551675        0.086956522         0.05274412   \n",
       "2     PrivacySuppressed  PrivacySuppressed  PrivacySuppressed   \n",
       "3           0.119444444        0.106944444        0.038888889   \n",
       "4     PrivacySuppressed  PrivacySuppressed  PrivacySuppressed   \n",
       "...                 ...                ...                ...   \n",
       "7799        0.123801466        0.068809927        0.020868584   \n",
       "7800        0.123801466        0.068809927        0.020868584   \n",
       "7801        0.123801466        0.068809927        0.020868584   \n",
       "7802        0.123801466        0.068809927        0.020868584   \n",
       "7803        0.123801466        0.068809927        0.020868584   \n",
       "\n",
       "         IND_INC_PCT_H2 PAR_ED_PCT_MS PAR_ED_PCT_HS PAR_ED_PCT_PS  ...  \\\n",
       "0                     0   0.011687705   0.378214119   0.610098177  ...   \n",
       "1           0.016393443   0.023132084   0.322229933   0.654637983  ...   \n",
       "2     PrivacySuppressed   0.050314465           0.5   0.449685535  ...   \n",
       "3           0.022222222   0.023476803   0.314141979   0.662381219  ...   \n",
       "4                     0   0.016226535   0.361438116   0.622335348  ...   \n",
       "...                 ...           ...           ...           ...  ...   \n",
       "7799        0.004230118    0.03577409   0.410412544   0.553813366  ...   \n",
       "7800        0.004230118    0.03577409   0.410412544   0.553813366  ...   \n",
       "7801        0.004230118    0.03577409   0.410412544   0.553813366  ...   \n",
       "7802        0.004230118    0.03577409   0.410412544   0.553813366  ...   \n",
       "7803        0.004230118    0.03577409   0.410412544   0.553813366  ...   \n",
       "\n",
       "     LO_INC_RPY_3YR_RT_SUPP MD_INC_RPY_3YR_RT_SUPP HI_INC_RPY_3YR_RT_SUPP  \\\n",
       "0               0.448163265            0.446488294            0.422018349   \n",
       "1               0.724256293            0.770134228            0.818059299   \n",
       "2               0.597701149            0.709090909      PrivacySuppressed   \n",
       "3               0.721404304            0.824742268            0.851936219   \n",
       "4               0.310875332            0.376106195            0.333333333   \n",
       "...                     ...                    ...                    ...   \n",
       "7799            0.420927467            0.540268456                    0.6   \n",
       "7800            0.420927467            0.540268456                    0.6   \n",
       "7801            0.420927467            0.540268456                    0.6   \n",
       "7802            0.420927467            0.540268456                    0.6   \n",
       "7803            0.420927467            0.540268456                    0.6   \n",
       "\n",
       "     DEP_RPY_3YR_RT_SUPP PELL_RPY_3YR_RT_SUPP NOPELL_RPY_3YR_RT_SUPP  \\\n",
       "0            0.442857143          0.443586698            0.452513966   \n",
       "1            0.767798013          0.732297853            0.795454545   \n",
       "2      PrivacySuppressed          0.600877193                  0.775   \n",
       "3            0.800347222          0.738341969            0.851405622   \n",
       "4             0.32410212          0.320016821            0.380829016   \n",
       "...                  ...                  ...                    ...   \n",
       "7799         0.482781027           0.42789148            0.607753706   \n",
       "7800         0.482781027           0.42789148            0.607753706   \n",
       "7801         0.482781027           0.42789148            0.607753706   \n",
       "7802         0.482781027           0.42789148            0.607753706   \n",
       "7803         0.482781027           0.42789148            0.607753706   \n",
       "\n",
       "     FEMALE_RPY_3YR_RT_SUPP MALE_RPY_3YR_RT_SUPP FIRSTGEN_RPY_3YR_RT_SUPP  \\\n",
       "0               0.484818805                0.406              0.423580786   \n",
       "1               0.760521886          0.755344418              0.751552795   \n",
       "2               0.610465116          0.686567164              0.632653061   \n",
       "3               0.768378651           0.79844098              0.778156997   \n",
       "4               0.364423718          0.286530612              0.315737052   \n",
       "...                     ...                  ...                      ...   \n",
       "7799            0.490091055          0.461751152              0.490384615   \n",
       "7800            0.490091055          0.461751152              0.490384615   \n",
       "7801            0.490091055          0.461751152              0.490384615   \n",
       "7802            0.490091055          0.461751152              0.490384615   \n",
       "7803            0.490091055          0.461751152              0.490384615   \n",
       "\n",
       "     NOTFIRSTGEN_RPY_3YR_RT_SUPP  \n",
       "0                     0.44245283  \n",
       "1                    0.765074771  \n",
       "2                           0.65  \n",
       "3                    0.791666667  \n",
       "4                    0.334633385  \n",
       "...                          ...  \n",
       "7799                 0.495152871  \n",
       "7800                 0.495152871  \n",
       "7801                 0.495152871  \n",
       "7802                 0.495152871  \n",
       "7803                 0.495152871  \n",
       "\n",
       "[7804 rows x 90 columns]"
      ],
      "text/html": "<div>\n<style scoped>\n    .dataframe tbody tr th:only-of-type {\n        vertical-align: middle;\n    }\n\n    .dataframe tbody tr th {\n        vertical-align: top;\n    }\n\n    .dataframe thead th {\n        text-align: right;\n    }\n</style>\n<table border=\"1\" class=\"dataframe\">\n  <thead>\n    <tr style=\"text-align: right;\">\n      <th></th>\n      <th>INSTURL</th>\n      <th>NOTFIRSTGEN_RPY_5YR_RT</th>\n      <th>RPY_7YR_RT</th>\n      <th>IND_INC_PCT_M1</th>\n      <th>IND_INC_PCT_M2</th>\n      <th>IND_INC_PCT_H1</th>\n      <th>IND_INC_PCT_H2</th>\n      <th>PAR_ED_PCT_MS</th>\n      <th>PAR_ED_PCT_HS</th>\n      <th>PAR_ED_PCT_PS</th>\n      <th>...</th>\n      <th>LO_INC_RPY_3YR_RT_SUPP</th>\n      <th>MD_INC_RPY_3YR_RT_SUPP</th>\n      <th>HI_INC_RPY_3YR_RT_SUPP</th>\n      <th>DEP_RPY_3YR_RT_SUPP</th>\n      <th>PELL_RPY_3YR_RT_SUPP</th>\n      <th>NOPELL_RPY_3YR_RT_SUPP</th>\n      <th>FEMALE_RPY_3YR_RT_SUPP</th>\n      <th>MALE_RPY_3YR_RT_SUPP</th>\n      <th>FIRSTGEN_RPY_3YR_RT_SUPP</th>\n      <th>NOTFIRSTGEN_RPY_3YR_RT_SUPP</th>\n    </tr>\n  </thead>\n  <tbody>\n    <tr>\n      <th>0</th>\n      <td>www.aamu.edu/</td>\n      <td>0.497700092</td>\n      <td>0.617647059</td>\n      <td>PrivacySuppressed</td>\n      <td>PrivacySuppressed</td>\n      <td>PrivacySuppressed</td>\n      <td>0</td>\n      <td>0.011687705</td>\n      <td>0.378214119</td>\n      <td>0.610098177</td>\n      <td>...</td>\n      <td>0.448163265</td>\n      <td>0.446488294</td>\n      <td>0.422018349</td>\n      <td>0.442857143</td>\n      <td>0.443586698</td>\n      <td>0.452513966</td>\n      <td>0.484818805</td>\n      <td>0.406</td>\n      <td>0.423580786</td>\n      <td>0.44245283</td>\n    </tr>\n    <tr>\n      <th>1</th>\n      <td>www.uab.edu</td>\n      <td>0.79389313</td>\n      <td>0.812947799</td>\n      <td>0.142551675</td>\n      <td>0.086956522</td>\n      <td>0.05274412</td>\n      <td>0.016393443</td>\n      <td>0.023132084</td>\n      <td>0.322229933</td>\n      <td>0.654637983</td>\n      <td>...</td>\n      <td>0.724256293</td>\n      <td>0.770134228</td>\n      <td>0.818059299</td>\n      <td>0.767798013</td>\n      <td>0.732297853</td>\n      <td>0.795454545</td>\n      <td>0.760521886</td>\n      <td>0.755344418</td>\n      <td>0.751552795</td>\n      <td>0.765074771</td>\n    </tr>\n    <tr>\n      <th>2</th>\n      <td>www.amridgeuniversity.edu</td>\n      <td>0.605263158</td>\n      <td>0.760517799</td>\n      <td>PrivacySuppressed</td>\n      <td>PrivacySuppressed</td>\n      <td>PrivacySuppressed</td>\n      <td>PrivacySuppressed</td>\n      <td>0.050314465</td>\n      <td>0.5</td>\n      <td>0.449685535</td>\n      <td>...</td>\n      <td>0.597701149</td>\n      <td>0.709090909</td>\n      <td>PrivacySuppressed</td>\n      <td>PrivacySuppressed</td>\n      <td>0.600877193</td>\n      <td>0.775</td>\n      <td>0.610465116</td>\n      <td>0.686567164</td>\n      <td>0.632653061</td>\n      <td>0.65</td>\n    </tr>\n    <tr>\n      <th>3</th>\n      <td>www.uah.edu</td>\n      <td>0.80962129</td>\n      <td>0.822929172</td>\n      <td>0.119444444</td>\n      <td>0.106944444</td>\n      <td>0.038888889</td>\n      <td>0.022222222</td>\n      <td>0.023476803</td>\n      <td>0.314141979</td>\n      <td>0.662381219</td>\n      <td>...</td>\n      <td>0.721404304</td>\n      <td>0.824742268</td>\n      <td>0.851936219</td>\n      <td>0.800347222</td>\n      <td>0.738341969</td>\n      <td>0.851405622</td>\n      <td>0.768378651</td>\n      <td>0.79844098</td>\n      <td>0.778156997</td>\n      <td>0.791666667</td>\n    </tr>\n    <tr>\n      <th>4</th>\n      <td>www.alasu.edu/email/index.aspx</td>\n      <td>0.411811652</td>\n      <td>0.533038255</td>\n      <td>PrivacySuppressed</td>\n      <td>PrivacySuppressed</td>\n      <td>PrivacySuppressed</td>\n      <td>0</td>\n      <td>0.016226535</td>\n      <td>0.361438116</td>\n      <td>0.622335348</td>\n      <td>...</td>\n      <td>0.310875332</td>\n      <td>0.376106195</td>\n      <td>0.333333333</td>\n      <td>0.32410212</td>\n      <td>0.320016821</td>\n      <td>0.380829016</td>\n      <td>0.364423718</td>\n      <td>0.286530612</td>\n      <td>0.315737052</td>\n      <td>0.334633385</td>\n    </tr>\n    <tr>\n      <th>...</th>\n      <td>...</td>\n      <td>...</td>\n      <td>...</td>\n      <td>...</td>\n      <td>...</td>\n      <td>...</td>\n      <td>...</td>\n      <td>...</td>\n      <td>...</td>\n      <td>...</td>\n      <td>...</td>\n      <td>...</td>\n      <td>...</td>\n      <td>...</td>\n      <td>...</td>\n      <td>...</td>\n      <td>...</td>\n      <td>...</td>\n      <td>...</td>\n      <td>...</td>\n      <td>...</td>\n    </tr>\n    <tr>\n      <th>7799</th>\n      <td>http://columbus.gmc.cc.ga.us/</td>\n      <td>0.517137097</td>\n      <td>0.591575092</td>\n      <td>0.123801466</td>\n      <td>0.068809927</td>\n      <td>0.020868584</td>\n      <td>0.004230118</td>\n      <td>0.03577409</td>\n      <td>0.410412544</td>\n      <td>0.553813366</td>\n      <td>...</td>\n      <td>0.420927467</td>\n      <td>0.540268456</td>\n      <td>0.6</td>\n      <td>0.482781027</td>\n      <td>0.42789148</td>\n      <td>0.607753706</td>\n      <td>0.490091055</td>\n      <td>0.461751152</td>\n      <td>0.490384615</td>\n      <td>0.495152871</td>\n    </tr>\n    <tr>\n      <th>7800</th>\n      <td>http://valdosta.gmc.cc.ga.us/</td>\n      <td>0.517137097</td>\n      <td>0.591575092</td>\n      <td>0.123801466</td>\n      <td>0.068809927</td>\n      <td>0.020868584</td>\n      <td>0.004230118</td>\n      <td>0.03577409</td>\n      <td>0.410412544</td>\n      <td>0.553813366</td>\n      <td>...</td>\n      <td>0.420927467</td>\n      <td>0.540268456</td>\n      <td>0.6</td>\n      <td>0.482781027</td>\n      <td>0.42789148</td>\n      <td>0.607753706</td>\n      <td>0.490091055</td>\n      <td>0.461751152</td>\n      <td>0.490384615</td>\n      <td>0.495152871</td>\n    </tr>\n    <tr>\n      <th>7801</th>\n      <td>http://robins.gmc.cc.ga.us/</td>\n      <td>0.517137097</td>\n      <td>0.591575092</td>\n      <td>0.123801466</td>\n      <td>0.068809927</td>\n      <td>0.020868584</td>\n      <td>0.004230118</td>\n      <td>0.03577409</td>\n      <td>0.410412544</td>\n      <td>0.553813366</td>\n      <td>...</td>\n      <td>0.420927467</td>\n      <td>0.540268456</td>\n      <td>0.6</td>\n      <td>0.482781027</td>\n      <td>0.42789148</td>\n      <td>0.607753706</td>\n      <td>0.490091055</td>\n      <td>0.461751152</td>\n      <td>0.490384615</td>\n      <td>0.495152871</td>\n    </tr>\n    <tr>\n      <th>7802</th>\n      <td>http://online.gmc.cc.ga.us/</td>\n      <td>0.517137097</td>\n      <td>0.591575092</td>\n      <td>0.123801466</td>\n      <td>0.068809927</td>\n      <td>0.020868584</td>\n      <td>0.004230118</td>\n      <td>0.03577409</td>\n      <td>0.410412544</td>\n      <td>0.553813366</td>\n      <td>...</td>\n      <td>0.420927467</td>\n      <td>0.540268456</td>\n      <td>0.6</td>\n      <td>0.482781027</td>\n      <td>0.42789148</td>\n      <td>0.607753706</td>\n      <td>0.490091055</td>\n      <td>0.461751152</td>\n      <td>0.490384615</td>\n      <td>0.495152871</td>\n    </tr>\n    <tr>\n      <th>7803</th>\n      <td>http://fairburn.gmc.cc.ga.us/</td>\n      <td>0.517137097</td>\n      <td>0.591575092</td>\n      <td>0.123801466</td>\n      <td>0.068809927</td>\n      <td>0.020868584</td>\n      <td>0.004230118</td>\n      <td>0.03577409</td>\n      <td>0.410412544</td>\n      <td>0.553813366</td>\n      <td>...</td>\n      <td>0.420927467</td>\n      <td>0.540268456</td>\n      <td>0.6</td>\n      <td>0.482781027</td>\n      <td>0.42789148</td>\n      <td>0.607753706</td>\n      <td>0.490091055</td>\n      <td>0.461751152</td>\n      <td>0.490384615</td>\n      <td>0.495152871</td>\n    </tr>\n  </tbody>\n</table>\n<p>7804 rows × 90 columns</p>\n</div>"
     },
     "metadata": {},
     "execution_count": 19
    }
   ],
   "source": [
    "#Check that the string columns do not have any numeric data - if they do, convert them to numeric data\n",
    "string_cols"
   ]
  },
  {
   "cell_type": "code",
   "execution_count": 20,
   "metadata": {},
   "outputs": [],
   "source": [
    "#Interesting! It seems that if some feature wasn't available for an observation due to privacy reasons, the value was replaced with 'PrivacySuppressed'. Note that the Data Documentation also says \"All (NSLDS) and Treasury elements are protected for privacy purposes; those data are shown as PrivacySuppressed\""
   ]
  },
  {
   "cell_type": "code",
   "execution_count": 21,
   "metadata": {},
   "outputs": [
    {
     "output_type": "execute_result",
     "data": {
      "text/plain": [
       "Index(['INSTURL', 'NOTFIRSTGEN_RPY_5YR_RT', 'RPY_7YR_RT', 'IND_INC_PCT_M1',\n",
       "       'IND_INC_PCT_M2', 'IND_INC_PCT_H1', 'IND_INC_PCT_H2', 'PAR_ED_PCT_MS',\n",
       "       'PAR_ED_PCT_HS', 'PAR_ED_PCT_PS', 'APPL_SCH_PCT_GE2',\n",
       "       'APPL_SCH_PCT_GE3', 'APPL_SCH_PCT_GE4', 'APPL_SCH_PCT_GE5',\n",
       "       'DEP_INC_AVG', 'IND_INC_AVG', 'DEBT_MDN', 'GRAD_DEBT_MDN',\n",
       "       'WDRAW_DEBT_MDN', 'PELL_DEBT_MDN', 'NOPELL_DEBT_MDN', 'FEMALE_DEBT_MDN',\n",
       "       'MALE_DEBT_MDN', 'FIRSTGEN_DEBT_MDN', 'NOTFIRSTGEN_DEBT_MDN', 'DEBT_N',\n",
       "       'GRAD_DEBT_N', 'WDRAW_DEBT_N', 'LO_INC_DEBT_N', 'MD_INC_DEBT_N',\n",
       "       'HI_INC_DEBT_N', 'DEP_DEBT_N', 'IND_DEBT_N', 'PELL_DEBT_N',\n",
       "       'NOPELL_DEBT_N', 'FEMALE_DEBT_N', 'MALE_DEBT_N', 'FIRSTGEN_DEBT_N',\n",
       "       'NOTFIRSTGEN_DEBT_N', 'GRAD_DEBT_MDN10YR', 'CUML_DEBT_N',\n",
       "       'CUML_DEBT_P90', 'CUML_DEBT_P75', 'CUML_DEBT_P25', 'CUML_DEBT_P10',\n",
       "       'INC_N', 'DEP_INC_N', 'IND_INC_N', 'DEP_STAT_N', 'PAR_ED_N',\n",
       "       'APPL_SCH_N', 'RPY_3YR_N', 'COMPL_RPY_3YR_N', 'NONCOM_RPY_3YR_N',\n",
       "       'LO_INC_RPY_3YR_N', 'MD_INC_RPY_3YR_N', 'HI_INC_RPY_3YR_N',\n",
       "       'DEP_RPY_3YR_N', 'IND_RPY_3YR_N', 'PELL_RPY_3YR_N', 'MD_INC_RPY_5YR_N',\n",
       "       'HI_INC_RPY_5YR_N', 'DEP_RPY_5YR_N', 'IND_RPY_5YR_N', 'PELL_RPY_5YR_N',\n",
       "       'NOPELL_RPY_5YR_N', 'MD_INC_RPY_7YR_N', 'HI_INC_RPY_7YR_N',\n",
       "       'DEP_RPY_7YR_N', 'IND_RPY_7YR_N', 'PELL_RPY_7YR_N', 'NOPELL_RPY_7YR_N',\n",
       "       'FEMALE_RPY_7YR_N', 'MALE_RPY_7YR_N', 'FIRSTGEN_RPY_7YR_N',\n",
       "       'NOTFIRSTGEN_RPY_7YR_N', 'DEBT_MDN_SUPP', 'GRAD_DEBT_MDN_SUPP',\n",
       "       'GRAD_DEBT_MDN10YR_SUPP', 'RPY_3YR_RT_SUPP', 'LO_INC_RPY_3YR_RT_SUPP',\n",
       "       'MD_INC_RPY_3YR_RT_SUPP', 'HI_INC_RPY_3YR_RT_SUPP',\n",
       "       'DEP_RPY_3YR_RT_SUPP', 'PELL_RPY_3YR_RT_SUPP', 'NOPELL_RPY_3YR_RT_SUPP',\n",
       "       'FEMALE_RPY_3YR_RT_SUPP', 'MALE_RPY_3YR_RT_SUPP',\n",
       "       'FIRSTGEN_RPY_3YR_RT_SUPP', 'NOTFIRSTGEN_RPY_3YR_RT_SUPP'],\n",
       "      dtype='object')"
      ]
     },
     "metadata": {},
     "execution_count": 21
    }
   ],
   "source": [
    "#Replace all 'PrivacySuppressed entries with np.nan\n",
    "replaced_df = reduced_corr_df.replace('PrivacySuppressed', np.nan)\n",
    "string_cols = replaced_df.select_dtypes('object')\n",
    "string_cols.columns"
   ]
  },
  {
   "cell_type": "code",
   "execution_count": 22,
   "metadata": {},
   "outputs": [
    {
     "output_type": "stream",
     "name": "stdout",
     "text": [
      "                             INSTURL NOTFIRSTGEN_RPY_5YR_RT   RPY_7YR_RT  \\\n0                      www.aamu.edu/            0.497700092  0.617647059   \n1                        www.uab.edu             0.79389313  0.812947799   \n2          www.amridgeuniversity.edu            0.605263158  0.760517799   \n3                        www.uah.edu             0.80962129  0.822929172   \n4     www.alasu.edu/email/index.aspx            0.411811652  0.533038255   \n...                              ...                    ...          ...   \n7799   http://columbus.gmc.cc.ga.us/            0.517137097  0.591575092   \n7800   http://valdosta.gmc.cc.ga.us/            0.517137097  0.591575092   \n7801     http://robins.gmc.cc.ga.us/            0.517137097  0.591575092   \n7802     http://online.gmc.cc.ga.us/            0.517137097  0.591575092   \n7803   http://fairburn.gmc.cc.ga.us/            0.517137097  0.591575092   \n\n     IND_INC_PCT_M1 IND_INC_PCT_M2  \n0               NaN            NaN  \n1       0.142551675    0.086956522  \n2               NaN            NaN  \n3       0.119444444    0.106944444  \n4               NaN            NaN  \n...             ...            ...  \n7799    0.123801466    0.068809927  \n7800    0.123801466    0.068809927  \n7801    0.123801466    0.068809927  \n7802    0.123801466    0.068809927  \n7803    0.123801466    0.068809927  \n\n[7804 rows x 5 columns]\n     IND_INC_PCT_H1 IND_INC_PCT_H2 PAR_ED_PCT_MS PAR_ED_PCT_HS PAR_ED_PCT_PS\n0               NaN              0   0.011687705   0.378214119   0.610098177\n1        0.05274412    0.016393443   0.023132084   0.322229933   0.654637983\n2               NaN            NaN   0.050314465           0.5   0.449685535\n3       0.038888889    0.022222222   0.023476803   0.314141979   0.662381219\n4               NaN              0   0.016226535   0.361438116   0.622335348\n...             ...            ...           ...           ...           ...\n7799    0.020868584    0.004230118    0.03577409   0.410412544   0.553813366\n7800    0.020868584    0.004230118    0.03577409   0.410412544   0.553813366\n7801    0.020868584    0.004230118    0.03577409   0.410412544   0.553813366\n7802    0.020868584    0.004230118    0.03577409   0.410412544   0.553813366\n7803    0.020868584    0.004230118    0.03577409   0.410412544   0.553813366\n\n[7804 rows x 5 columns]\n     APPL_SCH_PCT_GE2 APPL_SCH_PCT_GE3 APPL_SCH_PCT_GE4 APPL_SCH_PCT_GE5  \\\n0          0.75639967      0.599917424      0.476052849      0.368703551   \n1         0.536361698        0.2883344      0.177436554      0.111324376   \n2         0.665048544      0.368932039      0.218446602      0.131067961   \n3         0.558945191      0.270941055      0.158221303      0.093588418   \n4           0.6803233      0.516443701      0.399108138       0.30574136   \n...               ...              ...              ...              ...   \n7799         0.575436      0.329023917      0.200646412      0.133160957   \n7800         0.575436      0.329023917      0.200646412      0.133160957   \n7801         0.575436      0.329023917      0.200646412      0.133160957   \n7802         0.575436      0.329023917      0.200646412      0.133160957   \n7803         0.575436      0.329023917      0.200646412      0.133160957   \n\n      DEP_INC_AVG  \n0     33054.68926  \n1     59852.54783  \n2     35816.19451  \n3     63370.50758  \n4     32377.76273  \n...           ...  \n7799   38815.1018  \n7800   38815.1018  \n7801   38815.1018  \n7802   38815.1018  \n7803   38815.1018  \n\n[7804 rows x 5 columns]\n      IND_INC_AVG DEBT_MDN GRAD_DEBT_MDN WDRAW_DEBT_MDN PELL_DEBT_MDN\n0     9473.437492    19500       33611.5          14250         20441\n1     26714.10942    16250         23117          11886         18750\n2     21767.30931    10500         26995           9500         10500\n3     26499.31173    16500         24738          10500         18750\n4     7347.093365  15854.5         33452          12500         16746\n...           ...      ...           ...            ...           ...\n7799  20962.02144     6076         10500           5500          6533\n7800  20962.02144     6076         10500           5500          6533\n7801  20962.02144     6076         10500           5500          6533\n7802  20962.02144     6076         10500           5500          6533\n7803  20962.02144     6076         10500           5500          6533\n\n[7804 rows x 5 columns]\n     NOPELL_DEBT_MDN FEMALE_DEBT_MDN MALE_DEBT_MDN FIRSTGEN_DEBT_MDN  \\\n0              15000           21600         17724             18186   \n1              12500           16665         15000             15541   \n2                NaN            9500           NaN             11692   \n3              12500         17198.5         15750             16446   \n4               9500           17131         14250             15000   \n...              ...             ...           ...               ...   \n7799            5318            6884          5384              6875   \n7800            5318            6884          5384              6875   \n7801            5318            6884          5384              6875   \n7802            5318            6884          5384              6875   \n7803            5318            6884          5384              6875   \n\n     NOTFIRSTGEN_DEBT_MDN  \n0                   20250  \n1                   16000  \n2                   12698  \n3                   16500  \n4                   15000  \n...                   ...  \n7799                 5500  \n7800                 5500  \n7801                 5500  \n7802                 5500  \n7803                 5500  \n\n[7804 rows x 5 columns]\n     DEBT_N GRAD_DEBT_N WDRAW_DEBT_N LO_INC_DEBT_N MD_INC_DEBT_N\n0      2497         810         1699          1563           630\n1      6034        2664         3406          2694          1907\n2       477          29          450           348           113\n3      2651        1203         1460          1146           764\n4      4208         930         3306          2847          1008\n...     ...         ...          ...           ...           ...\n7799   6211         872         5405          3891          1517\n7800   6211         872         5405          3891          1517\n7801   6211         872         5405          3891          1517\n7802   6211         872         5405          3891          1517\n7803   6211         872         5405          3891          1517\n\n[7804 rows x 5 columns]\n     HI_INC_DEBT_N DEP_DEBT_N IND_DEBT_N PELL_DEBT_N NOPELL_DEBT_N\n0              282       2084        393        2163           314\n1             1306       3818       2097        3737          2178\n2              NaN        NaN        440         421           NaN\n3              714       1638        987        1707           918\n4              278       3386        749        3756           379\n...            ...        ...        ...         ...           ...\n7799           743       3085       3077        4931          1231\n7800           743       3085       3077        4931          1231\n7801           743       3085       3077        4931          1231\n7802           743       3085       3077        4931          1231\n7803           743       3085       3077        4931          1231\n\n[7804 rows x 5 columns]\n     FEMALE_DEBT_N MALE_DEBT_N FIRSTGEN_DEBT_N NOTFIRSTGEN_DEBT_N  \\\n0             1313        1129             809               1305   \n1             3760        2080            1967               3448   \n2              295         NaN             207                176   \n3             1374        1236             779               1653   \n4             2401        1671            1424               2081   \n...            ...         ...             ...                ...   \n7799          3985        2097            2301               2899   \n7800          3985        2097            2301               2899   \n7801          3985        2097            2301               2899   \n7802          3985        2097            2301               2899   \n7803          3985        2097            2301               2899   \n\n     GRAD_DEBT_MDN10YR  \n0          373.1565536  \n1          256.6460899  \n2          299.6998398  \n3          274.6425129  \n4          371.3857766  \n...                ...  \n7799        116.571525  \n7800        116.571525  \n7801        116.571525  \n7802        116.571525  \n7803        116.571525  \n\n[7804 rows x 5 columns]\n     CUML_DEBT_N CUML_DEBT_P90 CUML_DEBT_P75 CUML_DEBT_P25 CUML_DEBT_P10\n0           2497         50114         37900          9500          4750\n1           6034         40000         27650          8000          4325\n2            477         40000         24107          4935          3166\n3           2651         40750         28500          7500          3927\n4           4208         45846         32000        9394.5          4750\n...          ...           ...           ...           ...           ...\n7799        6211         19500         11825          2750          1600\n7800        6211         19500         11825          2750          1600\n7801        6211         19500         11825          2750          1600\n7802        6211         19500         11825          2750          1600\n7803        6211         19500         11825          2750          1600\n\n[7804 rows x 5 columns]\n     INC_N DEP_INC_N IND_INC_N DEP_STAT_N PAR_ED_N\n0      NaN      2119       302        NaN     2139\n1      NaN      3285      1403        NaN     4323\n2      NaN        37       374        NaN      318\n3     1934      1214       720       1934     1789\n4     3588      3033       555       3588     3143\n...    ...       ...       ...        ...      ...\n7799   NaN      4186      3546        NaN     6569\n7800   NaN      4186      3546        NaN     6569\n7801   NaN      4186      3546        NaN     6569\n7802   NaN      4186      3546        NaN     6569\n7803   NaN      4186      3546        NaN     6569\n\n[7804 rows x 5 columns]\n     APPL_SCH_N RPY_3YR_N COMPL_RPY_3YR_N NONCOM_RPY_3YR_N LO_INC_RPY_3YR_N\n0          2422      2062             NaN             1343             1225\n1          4689      3750             NaN             2014             1748\n2           412       309             NaN              256              174\n3          1934      1922             NaN             1038              883\n4          3588      2811             257             2538             1885\n...         ...       ...             ...              ...              ...\n7799       7735      2986             NaN             2796             1682\n7800       7735      2986             NaN             2796             1682\n7801       7735      2986             NaN             2796             1682\n7802       7735      2986             NaN             2796             1682\n7803       7735      2986             NaN             2796             1682\n\n[7804 rows x 5 columns]\n     MD_INC_RPY_3YR_N HI_INC_RPY_3YR_N DEP_RPY_3YR_N IND_RPY_3YR_N  \\\n0                 598              218          1750           292   \n1                1192              742          2416          1269   \n2                 110              NaN           NaN           287   \n3                 582              439          1152           753   \n4                 678              201          2311           453   \n...               ...              ...           ...           ...   \n7799              894              400          1539           NaN   \n7800              894              400          1539           NaN   \n7801              894              400          1539           NaN   \n7802              894              400          1539           NaN   \n7803              894              400          1539           NaN   \n\n     PELL_RPY_3YR_N  \n0              1684  \n1              2189  \n2               228  \n3              1158  \n4              2378  \n...             ...  \n7799           2101  \n7800           2101  \n7801           2101  \n7802           2101  \n7803           2101  \n\n[7804 rows x 5 columns]\n     MD_INC_RPY_5YR_N HI_INC_RPY_5YR_N DEP_RPY_5YR_N IND_RPY_5YR_N  \\\n0                 617              210          1814           323   \n1                1119              570          2214          1121   \n2                  93              NaN           NaN           261   \n3                 558              316          1003           671   \n4                 670              167          2355           479   \n...               ...              ...           ...           ...   \n7799              698              258          1152          1129   \n7800              698              258          1152          1129   \n7801              698              258          1152          1129   \n7802              698              258          1152          1129   \n7803              698              258          1152          1129   \n\n     PELL_RPY_5YR_N  \n0              1758  \n1              1996  \n2               202  \n3              1002  \n4              2438  \n...             ...  \n7799           1596  \n7800           1596  \n7801           1596  \n7802           1596  \n7803           1596  \n\n[7804 rows x 5 columns]\n     NOPELL_RPY_5YR_N MD_INC_RPY_7YR_N HI_INC_RPY_7YR_N DEP_RPY_7YR_N  \\\n0                 379              781              236          2247   \n1                1340             1246              570          2440   \n2                 NaN              114              NaN           NaN   \n3                 672              572              292           971   \n4                 396              741              168          2581   \n...               ...              ...              ...           ...   \n7799              685              669              211          1062   \n7800              685              669              211          1062   \n7801              685              669              211          1062   \n7802              685              669              211          1062   \n7803              685              669              211          1062   \n\n     IND_RPY_7YR_N  \n0              476  \n1             1352  \n2              295  \n3              651  \n4              518  \n...            ...  \n7799          1100  \n7800          1100  \n7801          1100  \n7802          1100  \n7803          1100  \n\n[7804 rows x 5 columns]\n     PELL_RPY_7YR_N NOPELL_RPY_7YR_N FEMALE_RPY_7YR_N MALE_RPY_7YR_N  \\\n0              2249              475             1372           1279   \n1              2231             1564             2438           1289   \n2               220              NaN              NaN            162   \n3               977              647              879            713   \n4              2643              456             1697           1319   \n...             ...              ...              ...            ...   \n7799           1502              664             1356            759   \n7800           1502              664             1356            759   \n7801           1502              664             1356            759   \n7802           1502              664             1356            759   \n7803           1502              664             1356            759   \n\n     FIRSTGEN_RPY_7YR_N  \n0                   908  \n1                  1341  \n2                   119  \n3                   540  \n4                  1069  \n...                 ...  \n7799                869  \n7800                869  \n7801                869  \n7802                869  \n7803                869  \n\n[7804 rows x 5 columns]\n     NOTFIRSTGEN_RPY_7YR_N DEBT_MDN_SUPP GRAD_DEBT_MDN_SUPP  \\\n0                     1345         19500            33611.5   \n1                     2054         16250              23117   \n2                      140         10500                NaN   \n3                      934         16500              24738   \n4                     1381       15854.5              33452   \n...                    ...           ...                ...   \n7799                   935          6076              10500   \n7800                   935          6076              10500   \n7801                   935          6076              10500   \n7802                   935          6076              10500   \n7803                   935          6076              10500   \n\n     GRAD_DEBT_MDN10YR_SUPP RPY_3YR_RT_SUPP  \n0               373.1565536      0.44471387  \n1               256.6460899     0.756266667  \n2                       NaN     0.647249191  \n3               274.6425129     0.781997919  \n4               371.3857766     0.331198862  \n...                     ...             ...  \n7799             116.571525     0.480910918  \n7800             116.571525     0.480910918  \n7801             116.571525     0.480910918  \n7802             116.571525     0.480910918  \n7803             116.571525     0.480910918  \n\n[7804 rows x 5 columns]\n     LO_INC_RPY_3YR_RT_SUPP MD_INC_RPY_3YR_RT_SUPP HI_INC_RPY_3YR_RT_SUPP  \\\n0               0.448163265            0.446488294            0.422018349   \n1               0.724256293            0.770134228            0.818059299   \n2               0.597701149            0.709090909                    NaN   \n3               0.721404304            0.824742268            0.851936219   \n4               0.310875332            0.376106195            0.333333333   \n...                     ...                    ...                    ...   \n7799            0.420927467            0.540268456                    0.6   \n7800            0.420927467            0.540268456                    0.6   \n7801            0.420927467            0.540268456                    0.6   \n7802            0.420927467            0.540268456                    0.6   \n7803            0.420927467            0.540268456                    0.6   \n\n     DEP_RPY_3YR_RT_SUPP PELL_RPY_3YR_RT_SUPP  \n0            0.442857143          0.443586698  \n1            0.767798013          0.732297853  \n2                    NaN          0.600877193  \n3            0.800347222          0.738341969  \n4             0.32410212          0.320016821  \n...                  ...                  ...  \n7799         0.482781027           0.42789148  \n7800         0.482781027           0.42789148  \n7801         0.482781027           0.42789148  \n7802         0.482781027           0.42789148  \n7803         0.482781027           0.42789148  \n\n[7804 rows x 5 columns]\n"
     ]
    }
   ],
   "source": [
    "#Enumerate all columns to find columns with numeric data and do a visual inspection\n",
    "for i in range(0, len(string_cols.columns) - 5, 5):\n",
    "    print(replaced_df[string_cols.columns[i:i+5]])"
   ]
  },
  {
   "cell_type": "code",
   "execution_count": 23,
   "metadata": {},
   "outputs": [],
   "source": [
    "#The only string column that doesnt store numeric data is INSTURL. So, we can convert all other columns to float\n",
    "convertable_columns = string_cols.columns[1:]\n",
    "convertable_columns\n",
    "replaced_df[convertable_columns] = replaced_df[convertable_columns].astype(float)\n"
   ]
  },
  {
   "cell_type": "code",
   "execution_count": 24,
   "metadata": {},
   "outputs": [
    {
     "output_type": "execute_result",
     "data": {
      "text/plain": [
       "Index(['INSTURL'], dtype='object')"
      ]
     },
     "metadata": {},
     "execution_count": 24
    }
   ],
   "source": [
    "#Verify that the columns were converted\n",
    "string_cols = replaced_df.select_dtypes('object')\n",
    "string_cols.columns"
   ]
  },
  {
   "cell_type": "code",
   "execution_count": 25,
   "metadata": {},
   "outputs": [],
   "source": [
    "#Impute the missing values for the newly converted columns\n",
    "numeric_cols = replaced_df.select_dtypes('number')\n",
    "replaced_df[numeric_cols.columns] = replaced_df[numeric_cols.columns].fillna(numeric_cols.median())"
   ]
  },
  {
   "cell_type": "code",
   "execution_count": 26,
   "metadata": {},
   "outputs": [],
   "source": [
    "#Replace missing values in INSTURL with 'N/A'\n",
    "replaced_df['INSTURL'] = replaced_df['INSTURL'].fillna('N/A')"
   ]
  },
  {
   "cell_type": "code",
   "execution_count": 27,
   "metadata": {},
   "outputs": [
    {
     "output_type": "execute_result",
     "data": {
      "text/plain": [
       "0"
      ]
     },
     "metadata": {},
     "execution_count": 27
    }
   ],
   "source": [
    "#Verify once more that no columns have missing values\n",
    "columns_missing_data = [col for col in replaced_df.columns if replaced_df[col].isna().sum() > 0]\n",
    "len(columns_missing_data)"
   ]
  },
  {
   "cell_type": "code",
   "execution_count": 28,
   "metadata": {},
   "outputs": [
    {
     "output_type": "execute_result",
     "data": {
      "text/plain": [
       "             UNITID         OPEID        opeid6         HCM2         main  \\\n",
       "count  7.804000e+03  7.804000e+03   7804.000000  7804.000000  7804.000000   \n",
       "mean   1.705430e+06  2.032428e+06  16121.271271     0.008842     0.731548   \n",
       "std    6.789848e+06  4.281088e+06  13663.764753     0.093619     0.443182   \n",
       "min    1.006540e+05  1.002000e+05   1002.000000     0.000000     0.000000   \n",
       "25%    1.743918e+05  3.455750e+05   3439.750000     0.000000     0.000000   \n",
       "50%    2.306000e+05  1.063100e+06  10490.000000     0.000000     1.000000   \n",
       "75%    4.462262e+05  2.616779e+06  25785.000000     0.000000     1.000000   \n",
       "max    4.828571e+07  8.209882e+07  42264.000000     1.000000     1.000000   \n",
       "\n",
       "         NUMBRANCH      CONTROL      st_fips       region       LOCALE  ...  \\\n",
       "count  7804.000000  7804.000000  7804.000000  7804.000000  7804.000000  ...   \n",
       "mean      8.334956     2.216427    28.961558     4.620835    19.665684  ...   \n",
       "std      24.068238     0.837223    16.669313     2.171166     9.127620  ...   \n",
       "min       1.000000     1.000000     1.000000     0.000000    11.000000  ...   \n",
       "25%       1.000000     1.000000    13.000000     3.000000    12.000000  ...   \n",
       "50%       1.000000     2.000000    29.000000     5.000000    21.000000  ...   \n",
       "75%       3.000000     3.000000    42.000000     6.000000    21.000000  ...   \n",
       "max     141.000000     3.000000    78.000000     9.000000    43.000000  ...   \n",
       "\n",
       "       LO_INC_RPY_3YR_RT_SUPP  MD_INC_RPY_3YR_RT_SUPP  HI_INC_RPY_3YR_RT_SUPP  \\\n",
       "count             7804.000000             7804.000000             7804.000000   \n",
       "mean                 0.531004                0.664973                0.763905   \n",
       "std                  0.177605                0.145620                0.106098   \n",
       "min                  0.043011                0.141176                0.183673   \n",
       "25%                  0.403226                0.583075                0.735710   \n",
       "50%                  0.512854                0.664804                0.764454   \n",
       "75%                  0.638889                0.751478                0.805823   \n",
       "max                  1.000000                1.000000                1.000000   \n",
       "\n",
       "       DEP_RPY_3YR_RT_SUPP  PELL_RPY_3YR_RT_SUPP  NOPELL_RPY_3YR_RT_SUPP  \\\n",
       "count          7804.000000           7804.000000             7804.000000   \n",
       "mean              0.636033              0.546218                0.726091   \n",
       "std               0.169917              0.178591                0.135176   \n",
       "min               0.045455              0.042553                0.147059   \n",
       "25%               0.537492              0.417581                0.659807   \n",
       "50%               0.633333              0.529617                0.729680   \n",
       "75%               0.742554              0.657143                0.813559   \n",
       "max               1.000000              1.000000                1.000000   \n",
       "\n",
       "       FEMALE_RPY_3YR_RT_SUPP  MALE_RPY_3YR_RT_SUPP  FIRSTGEN_RPY_3YR_RT_SUPP  \\\n",
       "count             7804.000000           7804.000000               7804.000000   \n",
       "mean                 0.604304              0.564316                  0.583944   \n",
       "std                  0.182589              0.178256                  0.172722   \n",
       "min                  0.060241              0.043796                  0.056338   \n",
       "25%                  0.479055              0.464912                  0.466685   \n",
       "50%                  0.598226              0.547753                  0.573178   \n",
       "75%                  0.730880              0.654394                  0.695523   \n",
       "max                  1.000000              1.000000                  1.000000   \n",
       "\n",
       "       NOTFIRSTGEN_RPY_3YR_RT_SUPP  \n",
       "count                  7804.000000  \n",
       "mean                      0.620359  \n",
       "std                       0.176944  \n",
       "min                       0.021277  \n",
       "25%                       0.506368  \n",
       "50%                       0.612903  \n",
       "75%                       0.734391  \n",
       "max                       1.000000  \n",
       "\n",
       "[8 rows x 221 columns]"
      ],
      "text/html": "<div>\n<style scoped>\n    .dataframe tbody tr th:only-of-type {\n        vertical-align: middle;\n    }\n\n    .dataframe tbody tr th {\n        vertical-align: top;\n    }\n\n    .dataframe thead th {\n        text-align: right;\n    }\n</style>\n<table border=\"1\" class=\"dataframe\">\n  <thead>\n    <tr style=\"text-align: right;\">\n      <th></th>\n      <th>UNITID</th>\n      <th>OPEID</th>\n      <th>opeid6</th>\n      <th>HCM2</th>\n      <th>main</th>\n      <th>NUMBRANCH</th>\n      <th>CONTROL</th>\n      <th>st_fips</th>\n      <th>region</th>\n      <th>LOCALE</th>\n      <th>...</th>\n      <th>LO_INC_RPY_3YR_RT_SUPP</th>\n      <th>MD_INC_RPY_3YR_RT_SUPP</th>\n      <th>HI_INC_RPY_3YR_RT_SUPP</th>\n      <th>DEP_RPY_3YR_RT_SUPP</th>\n      <th>PELL_RPY_3YR_RT_SUPP</th>\n      <th>NOPELL_RPY_3YR_RT_SUPP</th>\n      <th>FEMALE_RPY_3YR_RT_SUPP</th>\n      <th>MALE_RPY_3YR_RT_SUPP</th>\n      <th>FIRSTGEN_RPY_3YR_RT_SUPP</th>\n      <th>NOTFIRSTGEN_RPY_3YR_RT_SUPP</th>\n    </tr>\n  </thead>\n  <tbody>\n    <tr>\n      <th>count</th>\n      <td>7.804000e+03</td>\n      <td>7.804000e+03</td>\n      <td>7804.000000</td>\n      <td>7804.000000</td>\n      <td>7804.000000</td>\n      <td>7804.000000</td>\n      <td>7804.000000</td>\n      <td>7804.000000</td>\n      <td>7804.000000</td>\n      <td>7804.000000</td>\n      <td>...</td>\n      <td>7804.000000</td>\n      <td>7804.000000</td>\n      <td>7804.000000</td>\n      <td>7804.000000</td>\n      <td>7804.000000</td>\n      <td>7804.000000</td>\n      <td>7804.000000</td>\n      <td>7804.000000</td>\n      <td>7804.000000</td>\n      <td>7804.000000</td>\n    </tr>\n    <tr>\n      <th>mean</th>\n      <td>1.705430e+06</td>\n      <td>2.032428e+06</td>\n      <td>16121.271271</td>\n      <td>0.008842</td>\n      <td>0.731548</td>\n      <td>8.334956</td>\n      <td>2.216427</td>\n      <td>28.961558</td>\n      <td>4.620835</td>\n      <td>19.665684</td>\n      <td>...</td>\n      <td>0.531004</td>\n      <td>0.664973</td>\n      <td>0.763905</td>\n      <td>0.636033</td>\n      <td>0.546218</td>\n      <td>0.726091</td>\n      <td>0.604304</td>\n      <td>0.564316</td>\n      <td>0.583944</td>\n      <td>0.620359</td>\n    </tr>\n    <tr>\n      <th>std</th>\n      <td>6.789848e+06</td>\n      <td>4.281088e+06</td>\n      <td>13663.764753</td>\n      <td>0.093619</td>\n      <td>0.443182</td>\n      <td>24.068238</td>\n      <td>0.837223</td>\n      <td>16.669313</td>\n      <td>2.171166</td>\n      <td>9.127620</td>\n      <td>...</td>\n      <td>0.177605</td>\n      <td>0.145620</td>\n      <td>0.106098</td>\n      <td>0.169917</td>\n      <td>0.178591</td>\n      <td>0.135176</td>\n      <td>0.182589</td>\n      <td>0.178256</td>\n      <td>0.172722</td>\n      <td>0.176944</td>\n    </tr>\n    <tr>\n      <th>min</th>\n      <td>1.006540e+05</td>\n      <td>1.002000e+05</td>\n      <td>1002.000000</td>\n      <td>0.000000</td>\n      <td>0.000000</td>\n      <td>1.000000</td>\n      <td>1.000000</td>\n      <td>1.000000</td>\n      <td>0.000000</td>\n      <td>11.000000</td>\n      <td>...</td>\n      <td>0.043011</td>\n      <td>0.141176</td>\n      <td>0.183673</td>\n      <td>0.045455</td>\n      <td>0.042553</td>\n      <td>0.147059</td>\n      <td>0.060241</td>\n      <td>0.043796</td>\n      <td>0.056338</td>\n      <td>0.021277</td>\n    </tr>\n    <tr>\n      <th>25%</th>\n      <td>1.743918e+05</td>\n      <td>3.455750e+05</td>\n      <td>3439.750000</td>\n      <td>0.000000</td>\n      <td>0.000000</td>\n      <td>1.000000</td>\n      <td>1.000000</td>\n      <td>13.000000</td>\n      <td>3.000000</td>\n      <td>12.000000</td>\n      <td>...</td>\n      <td>0.403226</td>\n      <td>0.583075</td>\n      <td>0.735710</td>\n      <td>0.537492</td>\n      <td>0.417581</td>\n      <td>0.659807</td>\n      <td>0.479055</td>\n      <td>0.464912</td>\n      <td>0.466685</td>\n      <td>0.506368</td>\n    </tr>\n    <tr>\n      <th>50%</th>\n      <td>2.306000e+05</td>\n      <td>1.063100e+06</td>\n      <td>10490.000000</td>\n      <td>0.000000</td>\n      <td>1.000000</td>\n      <td>1.000000</td>\n      <td>2.000000</td>\n      <td>29.000000</td>\n      <td>5.000000</td>\n      <td>21.000000</td>\n      <td>...</td>\n      <td>0.512854</td>\n      <td>0.664804</td>\n      <td>0.764454</td>\n      <td>0.633333</td>\n      <td>0.529617</td>\n      <td>0.729680</td>\n      <td>0.598226</td>\n      <td>0.547753</td>\n      <td>0.573178</td>\n      <td>0.612903</td>\n    </tr>\n    <tr>\n      <th>75%</th>\n      <td>4.462262e+05</td>\n      <td>2.616779e+06</td>\n      <td>25785.000000</td>\n      <td>0.000000</td>\n      <td>1.000000</td>\n      <td>3.000000</td>\n      <td>3.000000</td>\n      <td>42.000000</td>\n      <td>6.000000</td>\n      <td>21.000000</td>\n      <td>...</td>\n      <td>0.638889</td>\n      <td>0.751478</td>\n      <td>0.805823</td>\n      <td>0.742554</td>\n      <td>0.657143</td>\n      <td>0.813559</td>\n      <td>0.730880</td>\n      <td>0.654394</td>\n      <td>0.695523</td>\n      <td>0.734391</td>\n    </tr>\n    <tr>\n      <th>max</th>\n      <td>4.828571e+07</td>\n      <td>8.209882e+07</td>\n      <td>42264.000000</td>\n      <td>1.000000</td>\n      <td>1.000000</td>\n      <td>141.000000</td>\n      <td>3.000000</td>\n      <td>78.000000</td>\n      <td>9.000000</td>\n      <td>43.000000</td>\n      <td>...</td>\n      <td>1.000000</td>\n      <td>1.000000</td>\n      <td>1.000000</td>\n      <td>1.000000</td>\n      <td>1.000000</td>\n      <td>1.000000</td>\n      <td>1.000000</td>\n      <td>1.000000</td>\n      <td>1.000000</td>\n      <td>1.000000</td>\n    </tr>\n  </tbody>\n</table>\n<p>8 rows × 221 columns</p>\n</div>"
     },
     "metadata": {},
     "execution_count": 28
    }
   ],
   "source": [
    "replaced_df.describe()"
   ]
  },
  {
   "cell_type": "code",
   "execution_count": 29,
   "metadata": {},
   "outputs": [],
   "source": [
    "replaced_df.to_csv('./data/WrangledCollegeScorecard.csv')"
   ]
  }
 ]
}